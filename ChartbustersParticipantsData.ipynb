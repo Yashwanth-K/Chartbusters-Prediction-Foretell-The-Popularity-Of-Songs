{
 "cells": [
  {
   "cell_type": "code",
   "execution_count": 0,
   "metadata": {
    "colab": {},
    "colab_type": "code",
    "id": "nWPuoHiT4fqn"
   },
   "outputs": [],
   "source": [
    "# !pip install git+git://github.com/scikit-learn/scikit-learn.git\n",
    "# from sklearn.preprocessing import CategoricalEncoder"
   ]
  },
  {
   "cell_type": "markdown",
   "metadata": {},
   "source": [
    "### install category_encoders using pip install. I did this on google colab as I was getting error for using category encoder on my laptop"
   ]
  },
  {
   "cell_type": "code",
   "execution_count": 0,
   "metadata": {
    "colab": {
     "base_uri": "https://localhost:8080/",
     "height": 200
    },
    "colab_type": "code",
    "id": "0at1wnuU48dN",
    "outputId": "1337e599-f44e-4607-80fd-5b39c7ec5274"
   },
   "outputs": [
    {
     "name": "stdout",
     "output_type": "stream",
     "text": [
      "Requirement already up-to-date: category_encoders in /usr/local/lib/python3.6/dist-packages (2.1.0)\n",
      "Requirement already satisfied, skipping upgrade: scikit-learn>=0.20.0 in /usr/local/lib/python3.6/dist-packages (from category_encoders) (0.21.3)\n",
      "Requirement already satisfied, skipping upgrade: patsy>=0.4.1 in /usr/local/lib/python3.6/dist-packages (from category_encoders) (0.5.1)\n",
      "Requirement already satisfied, skipping upgrade: scipy>=0.19.0 in /usr/local/lib/python3.6/dist-packages (from category_encoders) (1.3.3)\n",
      "Requirement already satisfied, skipping upgrade: numpy>=1.11.3 in /usr/local/lib/python3.6/dist-packages (from category_encoders) (1.17.4)\n",
      "Requirement already satisfied, skipping upgrade: statsmodels>=0.6.1 in /usr/local/lib/python3.6/dist-packages (from category_encoders) (0.10.2)\n",
      "Requirement already satisfied, skipping upgrade: pandas>=0.21.1 in /usr/local/lib/python3.6/dist-packages (from category_encoders) (0.25.3)\n",
      "Requirement already satisfied, skipping upgrade: joblib>=0.11 in /usr/local/lib/python3.6/dist-packages (from scikit-learn>=0.20.0->category_encoders) (0.14.1)\n",
      "Requirement already satisfied, skipping upgrade: six in /usr/local/lib/python3.6/dist-packages (from patsy>=0.4.1->category_encoders) (1.12.0)\n",
      "Requirement already satisfied, skipping upgrade: pytz>=2017.2 in /usr/local/lib/python3.6/dist-packages (from pandas>=0.21.1->category_encoders) (2018.9)\n",
      "Requirement already satisfied, skipping upgrade: python-dateutil>=2.6.1 in /usr/local/lib/python3.6/dist-packages (from pandas>=0.21.1->category_encoders) (2.6.1)\n"
     ]
    }
   ],
   "source": [
    "!pip install --upgrade category_encoders"
   ]
  },
  {
   "cell_type": "code",
   "execution_count": 0,
   "metadata": {
    "colab": {
     "base_uri": "https://localhost:8080/",
     "height": 33
    },
    "colab_type": "code",
    "id": "xyyQuTaKxesM",
    "outputId": "7850a209-4911-4636-9185-809cd244adf5"
   },
   "outputs": [
    {
     "name": "stdout",
     "output_type": "stream",
     "text": [
      "Drive already mounted at /content/drive; to attempt to forcibly remount, call drive.mount(\"/content/drive\", force_remount=True).\n"
     ]
    }
   ],
   "source": [
    "from google.colab import drive  \n",
    "drive.mount('/content/drive')"
   ]
  },
  {
   "cell_type": "markdown",
   "metadata": {},
   "source": [
    "**Importing the required libraries**"
   ]
  },
  {
   "cell_type": "markdown",
   "metadata": {
    "colab": {
     "base_uri": "https://localhost:8080/",
     "height": 16
    },
    "colab_type": "code",
    "id": "CAMAcRLa7tB2",
    "outputId": "daf6189d-598f-4801-b29d-756a468acff7"
   },
   "source": [
    "import warnings\n",
    "warnings.filterwarnings(\"ignore\")\n",
    "import category_encoders as ce\n",
    "\n",
    "import math\n",
    "import pandas as pd\n",
    "import numpy as np\n",
    "import matplotlib.pyplot as plt\n",
    "import seaborn as sns\n",
    "\n",
    "from sklearn.metrics import mean_squared_error\n",
    "\n",
    "from tqdm import tqdm\n",
    "import os\n",
    "\n",
    "import plotly.offline as offline\n",
    "import plotly.graph_objs as go\n",
    "offline.init_notebook_mode()\n",
    "\n",
    "import datetime\n",
    "from math import sqrt\n",
    "import re\n",
    "\n",
    "import xgboost as xgb"
   ]
  },
  {
   "cell_type": "markdown",
   "metadata": {},
   "source": [
    "**Load train and test dataset**"
   ]
  },
  {
   "cell_type": "code",
   "execution_count": 0,
   "metadata": {
    "colab": {
     "base_uri": "https://localhost:8080/"
    },
    "colab_type": "code",
    "id": "pDuWi3PN9Z7Y",
    "outputId": "62c83f4d-62d0-4016-a815-55c02fa0f19d"
   },
   "outputs": [
    {
     "name": "stdout",
     "output_type": "stream",
     "text": [
      "Number of data points in train data (78458, 11)\n",
      "Number of data points in test data (19615, 10)\n",
      "The attributes of data : ['Unique_ID' 'Name' 'Genre' 'Country' 'Song_Name' 'Timestamp' 'Views'\n",
      " 'Comments' 'Likes' 'Popularity' 'Followers']\n",
      "--------------------------------------------------\n",
      " Target column {'Views'}\n",
      "--------------------------------------------------\n"
     ]
    },
    {
     "data": {
      "text/html": [
       "<div>\n",
       "<style scoped>\n",
       "    .dataframe tbody tr th:only-of-type {\n",
       "        vertical-align: middle;\n",
       "    }\n",
       "\n",
       "    .dataframe tbody tr th {\n",
       "        vertical-align: top;\n",
       "    }\n",
       "\n",
       "    .dataframe thead th {\n",
       "        text-align: right;\n",
       "    }\n",
       "</style>\n",
       "<table border=\"1\" class=\"dataframe\">\n",
       "  <thead>\n",
       "    <tr style=\"text-align: right;\">\n",
       "      <th></th>\n",
       "      <th>Unique_ID</th>\n",
       "      <th>Name</th>\n",
       "      <th>Genre</th>\n",
       "      <th>Country</th>\n",
       "      <th>Song_Name</th>\n",
       "      <th>Timestamp</th>\n",
       "      <th>Views</th>\n",
       "      <th>Comments</th>\n",
       "      <th>Likes</th>\n",
       "      <th>Popularity</th>\n",
       "      <th>Followers</th>\n",
       "    </tr>\n",
       "  </thead>\n",
       "  <tbody>\n",
       "    <tr>\n",
       "      <th>0</th>\n",
       "      <td>413890</td>\n",
       "      <td>Hardstyle</td>\n",
       "      <td>danceedm</td>\n",
       "      <td>AU</td>\n",
       "      <td>N-Vitral presents BOMBSQUAD - Poison Spitter (...</td>\n",
       "      <td>2018-03-30 15:24:45.000000</td>\n",
       "      <td>14017</td>\n",
       "      <td>4</td>\n",
       "      <td>499</td>\n",
       "      <td>97</td>\n",
       "      <td>119563</td>\n",
       "    </tr>\n",
       "    <tr>\n",
       "      <th>1</th>\n",
       "      <td>249453</td>\n",
       "      <td>Dj Aladdin</td>\n",
       "      <td>danceedm</td>\n",
       "      <td>AU</td>\n",
       "      <td>Dj Aladdin - Old School Hip Hop Quick Mix</td>\n",
       "      <td>2016-06-20 05:58:52.000000</td>\n",
       "      <td>1918</td>\n",
       "      <td>17</td>\n",
       "      <td>49</td>\n",
       "      <td>17</td>\n",
       "      <td>2141</td>\n",
       "    </tr>\n",
       "    <tr>\n",
       "      <th>2</th>\n",
       "      <td>681116</td>\n",
       "      <td>Maxximize On Air</td>\n",
       "      <td>danceedm</td>\n",
       "      <td>AU</td>\n",
       "      <td>Maxximize On Air - Mixed by Blasterjaxx - Epis...</td>\n",
       "      <td>2015-05-08 17:45:59.000000</td>\n",
       "      <td>9668</td>\n",
       "      <td>11</td>\n",
       "      <td>312</td>\n",
       "      <td>91</td>\n",
       "      <td>22248</td>\n",
       "    </tr>\n",
       "    <tr>\n",
       "      <th>3</th>\n",
       "      <td>387253</td>\n",
       "      <td>GR6 EXPLODE</td>\n",
       "      <td>rbsoul</td>\n",
       "      <td>AU</td>\n",
       "      <td>MC Yago - Tenho Compromisso (DJ R7)</td>\n",
       "      <td>2017-06-08 23:50:03.000000</td>\n",
       "      <td>113036</td>\n",
       "      <td>2</td>\n",
       "      <td>2,400</td>\n",
       "      <td>76</td>\n",
       "      <td>393655</td>\n",
       "    </tr>\n",
       "    <tr>\n",
       "      <th>4</th>\n",
       "      <td>1428029</td>\n",
       "      <td>Tritonal</td>\n",
       "      <td>danceedm</td>\n",
       "      <td>AU</td>\n",
       "      <td>Escape (feat. Steph Jones)</td>\n",
       "      <td>2016-09-17 20:50:19.000000</td>\n",
       "      <td>110024</td>\n",
       "      <td>81</td>\n",
       "      <td>3,031</td>\n",
       "      <td>699</td>\n",
       "      <td>201030</td>\n",
       "    </tr>\n",
       "  </tbody>\n",
       "</table>\n",
       "</div>"
      ],
      "text/plain": [
       "   Unique_ID              Name     Genre  ...  Likes Popularity Followers\n",
       "0     413890         Hardstyle  danceedm  ...    499         97    119563\n",
       "1     249453        Dj Aladdin  danceedm  ...     49         17      2141\n",
       "2     681116  Maxximize On Air  danceedm  ...    312         91     22248\n",
       "3     387253       GR6 EXPLODE    rbsoul  ...  2,400         76    393655\n",
       "4    1428029          Tritonal  danceedm  ...  3,031        699    201030\n",
       "\n",
       "[5 rows x 11 columns]"
      ]
     },
     "execution_count": 8,
     "metadata": {
      "tags": []
     },
     "output_type": "execute_result"
    }
   ],
   "source": [
    "train = pd.read_csv('/content/drive/My Drive/dataset/ChartbustersParticipantsData/Data_Train.csv')\n",
    "test = pd.read_csv('/content/drive/My Drive/dataset/ChartbustersParticipantsData/Data_Test.csv')\n",
    "\n",
    "# train = pd.read_csv('Data_Train.csv')\n",
    "# test = pd.read_csv('Data_Test.csv')\n",
    "\n",
    "print(\"Number of data points in train data\", train.shape)\n",
    "print(\"Number of data points in test data\", test.shape)\n",
    "\n",
    "print(\"The attributes of data :\", train.columns.values)\n",
    "\n",
    "print('-'*50)\n",
    "print(\" Target column\",set(train.columns.values)-set(test.columns.values))\n",
    "print('-'*50)\n",
    "train.head()\n"
   ]
  },
  {
   "cell_type": "markdown",
   "metadata": {},
   "source": [
    "**search for constant columns in the dataframe**"
   ]
  },
  {
   "cell_type": "code",
   "execution_count": 0,
   "metadata": {
    "colab": {},
    "colab_type": "code",
    "id": "GwmgFmRnw8R3"
   },
   "outputs": [],
   "source": [
    "def const_col(df):\n",
    "  const_col_lst = []\n",
    "  for col in df.columns:\n",
    "    if df['%s'%col].nunique()<2:\n",
    "      const_col_lst.append(col)\n",
    "  return const_col_lst"
   ]
  },
  {
   "cell_type": "code",
   "execution_count": 0,
   "metadata": {
    "colab": {
     "base_uri": "https://localhost:8080/",
     "height": 33
    },
    "colab_type": "code",
    "id": "fSWQzIP_yE2z",
    "outputId": "dee988da-6026-4eed-cfea-9d9ed3b4e128"
   },
   "outputs": [
    {
     "data": {
      "text/plain": [
       "['Country']"
      ]
     },
     "execution_count": 15,
     "metadata": {
      "tags": []
     },
     "output_type": "execute_result"
    }
   ],
   "source": [
    "const_col(train)"
   ]
  },
  {
   "cell_type": "code",
   "execution_count": 0,
   "metadata": {
    "colab": {},
    "colab_type": "code",
    "id": "Yhgxx1pM9ztc"
   },
   "outputs": [],
   "source": [
    "# train.info()"
   ]
  },
  {
   "cell_type": "markdown",
   "metadata": {},
   "source": [
    "**Finding the unique values in the columns**"
   ]
  },
  {
   "cell_type": "code",
   "execution_count": 0,
   "metadata": {
    "colab": {},
    "colab_type": "code",
    "id": "ZpTVog-SoloD"
   },
   "outputs": [],
   "source": [
    "def unique_val_count(column):\n",
    "    print('{:<15s}{:10d}'.format(column.name,column.nunique()))"
   ]
  },
  {
   "cell_type": "markdown",
   "metadata": {
    "colab_type": "text",
    "id": "AYCrlUkiNzqQ"
   },
   "source": [
    "\n",
    " https://www.geeksforgeeks.org/python-pandas-series-str-replace-to-replace-text-in-a-series/<br>\n",
    " Python | Pandas Series.str.replace() to replace text in a series\n",
    "\n",
    " replace-comma-with-dot-pandas<br>\n",
    " https://stackoverflow.com/questions/40083266/replace-comma-with-dot-pandas\n",
    "\n",
    " replaceing multple signs<br>\n",
    " https://stackoverflow.com/questions/38516481/trying-to-remove-commas-and-dollars-signs-with-pandas-in-python\n"
   ]
  },
  {
   "cell_type": "markdown",
   "metadata": {},
   "source": [
    "**Data cleaning: Columns such as 'Like' and 'Popularity' have character notation for representing the numbers, so we replace them with required values**"
   ]
  },
  {
   "cell_type": "code",
   "execution_count": 0,
   "metadata": {
    "colab": {},
    "colab_type": "code",
    "id": "CPbfRvxUN5FW"
   },
   "outputs": [],
   "source": [
    "train_updated=train.copy()\n",
    "train_updated['Likes']=train_updated['Likes'].replace({',':'','K':'000'},regex=True)\n",
    "train_updated['Popularity']=train_updated['Popularity'].replace({',':'','K':'000'},regex=True)\n",
    "train_updated['Likes']=train_updated['Likes'].str.replace(r'[^\\d]', '')\n",
    "\n",
    "train_updated[['Likes','Popularity']] = train_updated[['Likes','Popularity']].apply(pd.to_numeric)\n"
   ]
  },
  {
   "cell_type": "code",
   "execution_count": 0,
   "metadata": {
    "colab": {},
    "colab_type": "code",
    "id": "Bgs2WlHrNiXY"
   },
   "outputs": [],
   "source": [
    "test_updated=test.copy()\n",
    "test_updated['Likes']=test_updated['Likes'].str.replace(r'[^\\d]', '')\n",
    "test_updated['Likes']=test_updated['Likes'].replace({',':'','K':'000'},regex=True)\n",
    "test_updated['Popularity']=test_updated['Popularity'].replace({',':'','K':'000'},regex=True)\n",
    "test_updated[['Likes','Popularity']] = test_updated[['Likes','Popularity']].apply(pd.to_numeric)\n"
   ]
  },
  {
   "cell_type": "code",
   "execution_count": 0,
   "metadata": {
    "colab": {},
    "colab_type": "code",
    "id": "n9xzMzk6ziNZ"
   },
   "outputs": [],
   "source": [
    "train_updated.drop(columns=\"Country\",inplace=True)\n",
    "test_updated.drop('Country',axis=1,inplace=True)\n"
   ]
  },
  {
   "cell_type": "code",
   "execution_count": 0,
   "metadata": {
    "colab": {},
    "colab_type": "code",
    "id": "3QZBl7W00S6I"
   },
   "outputs": [],
   "source": [
    "# train_updated.drop(columns=\"Song_Name\",inplace=True)\n",
    "# test_updated.drop('Song_Name',axis=1,inplace=True)\n",
    "\n",
    "# train_updated.drop('Unique_ID',axis=1,inplace=True)\n",
    "# test_updated.drop('Unique_ID',axis=1,inplace=True)\n"
   ]
  },
  {
   "cell_type": "markdown",
   "metadata": {
    "colab_type": "text",
    "id": "lytfW0-2N8EZ"
   },
   "source": [
    "\n",
    "Cannot replace special characters in a Python pandas dataframe<br>\n",
    "https://stackoverflow.com/questions/50846719/cannot-replace-special-characters-in-a-python-pandas-dataframe\n"
   ]
  },
  {
   "cell_type": "markdown",
   "metadata": {},
   "source": [
    "**Using the Timestamp to create extra features**"
   ]
  },
  {
   "cell_type": "code",
   "execution_count": 0,
   "metadata": {
    "colab": {},
    "colab_type": "code",
    "id": "etv5y-ZwHu5J"
   },
   "outputs": [],
   "source": [
    "train_updated['Timestamp'] = train_updated['Timestamp'].astype('datetime64[ns]')\n",
    "train_updated[\"day\"]     = train_updated['Timestamp'].dt.day # extracting day\n",
    "train_updated[\"weekday\"] = train_updated['Timestamp'].dt.weekday #extracting week day\n",
    "train_updated[\"month\"]   = train_updated['Timestamp'].dt.month \n",
    "train_updated[\"year\"]    = train_updated['Timestamp'].dt.year \n",
    "train_updated[\"hour\"]    = train_updated['Timestamp'].dt.hour\n",
    "train_updated[\"minute\"]    = train_updated['Timestamp'].dt.minute\n"
   ]
  },
  {
   "cell_type": "code",
   "execution_count": 0,
   "metadata": {
    "colab": {},
    "colab_type": "code",
    "id": "Y8GtxAoULycN"
   },
   "outputs": [],
   "source": [
    "test_updated['Timestamp'] = test_updated['Timestamp'].astype('datetime64[ns]')\n",
    "test_updated[\"day\"]       = test_updated['Timestamp'].dt.day # extracting day\n",
    "test_updated[\"weekday\"]   = test_updated['Timestamp'].dt.weekday #extracting week day\n",
    "test_updated[\"month\"]     = test_updated['Timestamp'].dt.month \n",
    "test_updated[\"year\"]      = test_updated['Timestamp'].dt.year \n",
    "test_updated[\"hour\"]      = test_updated['Timestamp'].dt.hour\n",
    "test_updated[\"minute\"]    = test_updated['Timestamp'].dt.minute\n"
   ]
  },
  {
   "cell_type": "code",
   "execution_count": 0,
   "metadata": {
    "colab": {},
    "colab_type": "code",
    "id": "_LHl7kFk1FkT"
   },
   "outputs": [],
   "source": [
    "train_updated[\"weekend\"] = train_updated[\"weekday\"].apply(lambda x: 0 if x<5 else 1)\n",
    "test_updated[\"weekend\"]   = test_updated[\"weekday\"].apply(lambda x:0  if x<5 else 1)"
   ]
  },
  {
   "cell_type": "code",
   "execution_count": 0,
   "metadata": {
    "colab": {
     "base_uri": "https://localhost:8080/",
     "height": 33
    },
    "colab_type": "code",
    "id": "s7yjRqpSW8gK",
    "outputId": "ff59e531-5b13-45df-9c3c-8ce284b8484d"
   },
   "outputs": [
    {
     "data": {
      "text/plain": [
       "13"
      ]
     },
     "execution_count": 46,
     "metadata": {
      "tags": []
     },
     "output_type": "execute_result"
    }
   ],
   "source": [
    "time=\"2014-08-13 12:21:34.000000\"\n",
    "datetimeFormat = '%Y-%m-%d %H:%M:%S.%f'\n",
    "d = datetime.datetime.strptime(time, datetimeFormat)\n",
    "compare_value = math.ceil(d.hour+(d.minute/60))\n",
    "compare_value"
   ]
  },
  {
   "cell_type": "code",
   "execution_count": 0,
   "metadata": {
    "colab": {},
    "colab_type": "code",
    "id": "XTG3PdtqLyqj"
   },
   "outputs": [],
   "source": [
    "def cond1(time):\n",
    "  # if((hr>=0 & mini>=0) & (hr<6 & mini>=0) | (hr==6 & mini==0)):\n",
    "  #   return 1\n",
    "  # elif((hr>=6 & mini>0) & (hr<12 & mini>=0) | (hr==12 & mini==0)):\n",
    "  #   return 2\n",
    "  # elif((hr>=12 & mini>0) & (hr<18 & mini>=0) | (hr==18 & mini==0)):\n",
    "  #   return 3\n",
    "  # else:\n",
    "  #   return 4\n",
    "  datetimeFormat = '%Y-%m-%d %H:%M:%S.%f'\n",
    "  d = datetime.datetime.strptime(time, datetimeFormat)\n",
    "  compare_value = math.ceil(d.hour+(d.minute/60))\n",
    "  if (compare_value>0 & compare_value<=6):\n",
    "    return 1\n",
    "  elif (compare_value>6 & compare_value<=12):\n",
    "    return 2\n",
    "  elif compare_value>12 & compare_value<=18:\n",
    "    return 3\n",
    "  else :\n",
    "    return 4\n",
    "  # print(compare_value)"
   ]
  },
  {
   "cell_type": "markdown",
   "metadata": {
    "colab_type": "text",
    "id": "f4A9qkCyPMq3"
   },
   "source": [
    "https://thispointer.com/pandas-apply-a-function-to-single-or-selected-columns-or-rows-in-dataframe/\n",
    "https://stackoverflow.com/questions/13331698/how-to-apply-a-function-to-two-columns-of-pandas-dataframe\n",
    "\n",
    "### Pandas: Apply a function to single or selected columns or rows in Dataframe\n",
    "\n",
    "1. df['col_3'] = df[['col_1','col_2']].apply(lambda x: f(*x), axis=1)\n",
    "2. df['col_3'] = df.apply(lambda x: f(x.col_1, x.col_2), axis=1)\n"
   ]
  },
  {
   "cell_type": "code",
   "execution_count": 1,
   "metadata": {
    "colab": {
     "base_uri": "https://localhost:8080/",
     "height": 116
    },
    "colab_type": "code",
    "id": "16Cy3LonYWYG",
    "outputId": "e44e164c-5c8e-4e05-e5ee-259833b7db99"
   },
   "outputs": [],
   "source": [
    "# train_updated['Timestamp'][:5].apply(lambda x: cond1(x))"
   ]
  },
  {
   "cell_type": "code",
   "execution_count": 0,
   "metadata": {
    "colab": {},
    "colab_type": "code",
    "id": "TKcGgK5KQhQV"
   },
   "outputs": [],
   "source": [
    "train_updated[\"time_period\"] = train_updated['Timestamp'].apply(lambda x: cond1(x))"
   ]
  },
  {
   "cell_type": "code",
   "execution_count": 0,
   "metadata": {
    "colab": {},
    "colab_type": "code",
    "id": "deW9voCQOh1g"
   },
   "outputs": [],
   "source": [
    "# train_updated[\"time_period\"] = train_updated[\"weekday\"].apply(lambda x: 1 if x<5 else 0)\n",
    "# test_updated[\"time_period\"]   = test_updated[\"weekday\"].apply(lambda x: 1 if x<5 else 0)"
   ]
  },
  {
   "cell_type": "code",
   "execution_count": 0,
   "metadata": {
    "colab": {},
    "colab_type": "code",
    "id": "RZWOwpreVwzl"
   },
   "outputs": [],
   "source": [
    "# test_updated.drop(columns=\"Timestamp\",inplace=True)\n",
    "# train_updated.drop(columns=\"Timestamp\",inplace=True)"
   ]
  },
  {
   "cell_type": "markdown",
   "metadata": {},
   "source": [
    "**Basic stats about the train data**"
   ]
  },
  {
   "cell_type": "code",
   "execution_count": 0,
   "metadata": {
    "colab": {
     "base_uri": "https://localhost:8080/",
     "height": 307
    },
    "colab_type": "code",
    "id": "CFxOGuUO2FWZ",
    "outputId": "7af6b392-c32d-42fa-80ec-c21d17e237ba"
   },
   "outputs": [
    {
     "data": {
      "text/html": [
       "<div>\n",
       "<style scoped>\n",
       "    .dataframe tbody tr th:only-of-type {\n",
       "        vertical-align: middle;\n",
       "    }\n",
       "\n",
       "    .dataframe tbody tr th {\n",
       "        vertical-align: top;\n",
       "    }\n",
       "\n",
       "    .dataframe thead th {\n",
       "        text-align: right;\n",
       "    }\n",
       "</style>\n",
       "<table border=\"1\" class=\"dataframe\">\n",
       "  <thead>\n",
       "    <tr style=\"text-align: right;\">\n",
       "      <th></th>\n",
       "      <th>Unique_ID</th>\n",
       "      <th>Views</th>\n",
       "      <th>Comments</th>\n",
       "      <th>Likes</th>\n",
       "      <th>Popularity</th>\n",
       "      <th>Followers</th>\n",
       "      <th>day</th>\n",
       "      <th>weekday</th>\n",
       "      <th>month</th>\n",
       "      <th>year</th>\n",
       "      <th>hour</th>\n",
       "      <th>minute</th>\n",
       "      <th>weekend</th>\n",
       "    </tr>\n",
       "  </thead>\n",
       "  <tbody>\n",
       "    <tr>\n",
       "      <th>count</th>\n",
       "      <td>7.845800e+04</td>\n",
       "      <td>7.845800e+04</td>\n",
       "      <td>78458.000000</td>\n",
       "      <td>78458.000000</td>\n",
       "      <td>78458.000000</td>\n",
       "      <td>7.845800e+04</td>\n",
       "      <td>78458.000000</td>\n",
       "      <td>78458.000000</td>\n",
       "      <td>78458.000000</td>\n",
       "      <td>78458.000000</td>\n",
       "      <td>78458.000000</td>\n",
       "      <td>78458.000000</td>\n",
       "      <td>78458.000000</td>\n",
       "    </tr>\n",
       "    <tr>\n",
       "      <th>mean</th>\n",
       "      <td>7.451701e+05</td>\n",
       "      <td>5.469686e+05</td>\n",
       "      <td>115.270973</td>\n",
       "      <td>30830.841915</td>\n",
       "      <td>592.799855</td>\n",
       "      <td>4.787663e+05</td>\n",
       "      <td>15.513026</td>\n",
       "      <td>2.579609</td>\n",
       "      <td>6.523962</td>\n",
       "      <td>2015.931951</td>\n",
       "      <td>12.314984</td>\n",
       "      <td>24.993576</td>\n",
       "      <td>0.866374</td>\n",
       "    </tr>\n",
       "    <tr>\n",
       "      <th>std</th>\n",
       "      <td>4.805507e+05</td>\n",
       "      <td>3.883085e+06</td>\n",
       "      <td>724.614868</td>\n",
       "      <td>108784.348397</td>\n",
       "      <td>3459.825521</td>\n",
       "      <td>1.168120e+06</td>\n",
       "      <td>8.811091</td>\n",
       "      <td>1.785213</td>\n",
       "      <td>3.622101</td>\n",
       "      <td>2.770140</td>\n",
       "      <td>7.199088</td>\n",
       "      <td>19.304455</td>\n",
       "      <td>0.340252</td>\n",
       "    </tr>\n",
       "    <tr>\n",
       "      <th>min</th>\n",
       "      <td>0.000000e+00</td>\n",
       "      <td>0.000000e+00</td>\n",
       "      <td>0.000000</td>\n",
       "      <td>0.000000</td>\n",
       "      <td>0.000000</td>\n",
       "      <td>1.000000e+00</td>\n",
       "      <td>1.000000</td>\n",
       "      <td>0.000000</td>\n",
       "      <td>1.000000</td>\n",
       "      <td>1973.000000</td>\n",
       "      <td>0.000000</td>\n",
       "      <td>0.000000</td>\n",
       "      <td>0.000000</td>\n",
       "    </tr>\n",
       "    <tr>\n",
       "      <th>25%</th>\n",
       "      <td>3.149512e+05</td>\n",
       "      <td>6.216500e+03</td>\n",
       "      <td>1.000000</td>\n",
       "      <td>129.000000</td>\n",
       "      <td>12.000000</td>\n",
       "      <td>1.770000e+04</td>\n",
       "      <td>8.000000</td>\n",
       "      <td>1.000000</td>\n",
       "      <td>3.000000</td>\n",
       "      <td>2015.000000</td>\n",
       "      <td>7.000000</td>\n",
       "      <td>6.000000</td>\n",
       "      <td>1.000000</td>\n",
       "    </tr>\n",
       "    <tr>\n",
       "      <th>50%</th>\n",
       "      <td>6.618655e+05</td>\n",
       "      <td>2.538650e+04</td>\n",
       "      <td>12.000000</td>\n",
       "      <td>664.000000</td>\n",
       "      <td>80.550000</td>\n",
       "      <td>8.768200e+04</td>\n",
       "      <td>16.000000</td>\n",
       "      <td>3.000000</td>\n",
       "      <td>7.000000</td>\n",
       "      <td>2017.000000</td>\n",
       "      <td>14.000000</td>\n",
       "      <td>24.000000</td>\n",
       "      <td>1.000000</td>\n",
       "    </tr>\n",
       "    <tr>\n",
       "      <th>75%</th>\n",
       "      <td>1.176618e+06</td>\n",
       "      <td>1.201342e+05</td>\n",
       "      <td>61.000000</td>\n",
       "      <td>2843.000000</td>\n",
       "      <td>369.000000</td>\n",
       "      <td>3.936550e+05</td>\n",
       "      <td>23.000000</td>\n",
       "      <td>4.000000</td>\n",
       "      <td>10.000000</td>\n",
       "      <td>2018.000000</td>\n",
       "      <td>18.000000</td>\n",
       "      <td>42.000000</td>\n",
       "      <td>1.000000</td>\n",
       "    </tr>\n",
       "    <tr>\n",
       "      <th>max</th>\n",
       "      <td>1.570012e+06</td>\n",
       "      <td>1.994050e+08</td>\n",
       "      <td>104082.000000</td>\n",
       "      <td>999000.000000</td>\n",
       "      <td>324000.000000</td>\n",
       "      <td>9.789123e+06</td>\n",
       "      <td>31.000000</td>\n",
       "      <td>6.000000</td>\n",
       "      <td>12.000000</td>\n",
       "      <td>2019.000000</td>\n",
       "      <td>23.000000</td>\n",
       "      <td>59.000000</td>\n",
       "      <td>1.000000</td>\n",
       "    </tr>\n",
       "  </tbody>\n",
       "</table>\n",
       "</div>"
      ],
      "text/plain": [
       "          Unique_ID         Views  ...        minute       weekend\n",
       "count  7.845800e+04  7.845800e+04  ...  78458.000000  78458.000000\n",
       "mean   7.451701e+05  5.469686e+05  ...     24.993576      0.866374\n",
       "std    4.805507e+05  3.883085e+06  ...     19.304455      0.340252\n",
       "min    0.000000e+00  0.000000e+00  ...      0.000000      0.000000\n",
       "25%    3.149512e+05  6.216500e+03  ...      6.000000      1.000000\n",
       "50%    6.618655e+05  2.538650e+04  ...     24.000000      1.000000\n",
       "75%    1.176618e+06  1.201342e+05  ...     42.000000      1.000000\n",
       "max    1.570012e+06  1.994050e+08  ...     59.000000      1.000000\n",
       "\n",
       "[8 rows x 13 columns]"
      ]
     },
     "execution_count": 27,
     "metadata": {
      "tags": []
     },
     "output_type": "execute_result"
    }
   ],
   "source": [
    "train_updated.describe()"
   ]
  },
  {
   "cell_type": "markdown",
   "metadata": {
    "colab_type": "text",
    "id": "YhqOxYs87etL"
   },
   "source": [
    "**comments,likes and popularity have large values above 75% of data**\n"
   ]
  },
  {
   "cell_type": "code",
   "execution_count": 0,
   "metadata": {
    "colab": {},
    "colab_type": "code",
    "id": "BPwhX3QjBnes"
   },
   "outputs": [],
   "source": [
    "# https://pythonprogramming.net/bar-chart-histogram-matplotlib-tutorial/\n",
    "def histo(col,df):\n",
    "  bin_size=[]\n",
    "  bin_modifier=0.25\n",
    "  bin_val=round((df['%s'%col].max()-df['%s'%col].mean())/df['%s'%col].mean())/bin_modifier\n",
    "  bin_size.append(bin_val)\n",
    "  steps=math.ceil(df['%s'%col].max()/bin_size[0])\n",
    "  for i in range(1,steps+2):\n",
    "    bin_size.append(bin_val*(i+1))\n",
    "  plt.figure(figsize=(5,5))\n",
    "  plt.hist(df['%s'%col],bins=bin_size, histtype='bar', rwidth=0.8)\n",
    "\n",
    "  plt.xlabel('%s'%col)\n",
    "  # plt.ylabel('y')\n",
    "  plt.show()\n",
    "  # print(steps,\"\\n\",bin_val,\"\\n\",df['%s'%col].max())"
   ]
  },
  {
   "cell_type": "code",
   "execution_count": 0,
   "metadata": {
    "colab": {
     "base_uri": "https://localhost:8080/",
     "height": 334
    },
    "colab_type": "code",
    "id": "i_w8UVzf76c2",
    "outputId": "3aa66e87-2231-40bb-b440-ab52fbd5bf68"
   },
   "outputs": [
    {
     "data": {
      "image/png": "[encoded data removed]",
      "text/plain": [
       "<Figure size 360x360 with 1 Axes>"
      ]
     },
     "metadata": {
      "tags": []
     },
     "output_type": "display_data"
    }
   ],
   "source": [
    "histo('Comments',train_updated)"
   ]
  },
  {
   "cell_type": "code",
   "execution_count": 0,
   "metadata": {
    "colab": {},
    "colab_type": "code",
    "id": "BlXpN33C5Ko0"
   },
   "outputs": [],
   "source": [
    "value=0.3\n",
    "def yellow(val):\n",
    "  color = 'yellow' if val > value else 'orange' if val<-value else ''\n",
    "  return 'background-color:' + color \n",
    "\n",
    "def bold(val):    \n",
    "  bold = 'bold' if val > value else 'orange' if val<-value else ''\n",
    "  return 'font-weight:'+ bold"
   ]
  },
  {
   "cell_type": "markdown",
   "metadata": {
    "colab_type": "text",
    "id": "9mnzYJS1-scJ"
   },
   "source": [
    "### bold all the results from pyhton based on condition\n",
    "  https://stackoverflow.com/questions/58344309/pandas-conditionally-format-field-in-bold"
   ]
  },
  {
   "cell_type": "code",
   "execution_count": 0,
   "metadata": {
    "colab": {
     "base_uri": "https://localhost:8080/",
     "height": 266
    },
    "colab_type": "code",
    "id": "dVKSUJmL21jf",
    "outputId": "561abc7a-8d5b-4689-864b-90a30f2ed5a6"
   },
   "outputs": [
    {
     "data": {
      "text/html": [
       "<style  type=\"text/css\" >\n",
       "    #T_7a173040_2b0f_11ea_bd93_0242ac1c0002row0_col0 {\n",
       "            background-color: yellow;\n",
       "            font-weight: bold;\n",
       "        }    #T_7a173040_2b0f_11ea_bd93_0242ac1c0002row0_col1 {\n",
       "            background-color: ;\n",
       "            font-weight: ;\n",
       "        }    #T_7a173040_2b0f_11ea_bd93_0242ac1c0002row0_col2 {\n",
       "            background-color: ;\n",
       "            font-weight: ;\n",
       "        }    #T_7a173040_2b0f_11ea_bd93_0242ac1c0002row0_col3 {\n",
       "            background-color: ;\n",
       "            font-weight: ;\n",
       "        }    #T_7a173040_2b0f_11ea_bd93_0242ac1c0002row0_col4 {\n",
       "            background-color: ;\n",
       "            font-weight: ;\n",
       "        }    #T_7a173040_2b0f_11ea_bd93_0242ac1c0002row0_col5 {\n",
       "            background-color: ;\n",
       "            font-weight: ;\n",
       "        }    #T_7a173040_2b0f_11ea_bd93_0242ac1c0002row0_col6 {\n",
       "            background-color: ;\n",
       "            font-weight: ;\n",
       "        }    #T_7a173040_2b0f_11ea_bd93_0242ac1c0002row0_col7 {\n",
       "            background-color: ;\n",
       "            font-weight: ;\n",
       "        }    #T_7a173040_2b0f_11ea_bd93_0242ac1c0002row0_col8 {\n",
       "            background-color: ;\n",
       "            font-weight: ;\n",
       "        }    #T_7a173040_2b0f_11ea_bd93_0242ac1c0002row0_col9 {\n",
       "            background-color: ;\n",
       "            font-weight: ;\n",
       "        }    #T_7a173040_2b0f_11ea_bd93_0242ac1c0002row0_col10 {\n",
       "            background-color: ;\n",
       "            font-weight: ;\n",
       "        }    #T_7a173040_2b0f_11ea_bd93_0242ac1c0002row0_col11 {\n",
       "            background-color: ;\n",
       "            font-weight: ;\n",
       "        }    #T_7a173040_2b0f_11ea_bd93_0242ac1c0002row0_col12 {\n",
       "            background-color: ;\n",
       "            font-weight: ;\n",
       "        }    #T_7a173040_2b0f_11ea_bd93_0242ac1c0002row1_col0 {\n",
       "            background-color: ;\n",
       "            font-weight: ;\n",
       "        }    #T_7a173040_2b0f_11ea_bd93_0242ac1c0002row1_col1 {\n",
       "            background-color: yellow;\n",
       "            font-weight: bold;\n",
       "        }    #T_7a173040_2b0f_11ea_bd93_0242ac1c0002row1_col2 {\n",
       "            background-color: yellow;\n",
       "            font-weight: bold;\n",
       "        }    #T_7a173040_2b0f_11ea_bd93_0242ac1c0002row1_col3 {\n",
       "            background-color: yellow;\n",
       "            font-weight: bold;\n",
       "        }    #T_7a173040_2b0f_11ea_bd93_0242ac1c0002row1_col4 {\n",
       "            background-color: yellow;\n",
       "            font-weight: bold;\n",
       "        }    #T_7a173040_2b0f_11ea_bd93_0242ac1c0002row1_col5 {\n",
       "            background-color: ;\n",
       "            font-weight: ;\n",
       "        }    #T_7a173040_2b0f_11ea_bd93_0242ac1c0002row1_col6 {\n",
       "            background-color: ;\n",
       "            font-weight: ;\n",
       "        }    #T_7a173040_2b0f_11ea_bd93_0242ac1c0002row1_col7 {\n",
       "            background-color: ;\n",
       "            font-weight: ;\n",
       "        }    #T_7a173040_2b0f_11ea_bd93_0242ac1c0002row1_col8 {\n",
       "            background-color: ;\n",
       "            font-weight: ;\n",
       "        }    #T_7a173040_2b0f_11ea_bd93_0242ac1c0002row1_col9 {\n",
       "            background-color: ;\n",
       "            font-weight: ;\n",
       "        }    #T_7a173040_2b0f_11ea_bd93_0242ac1c0002row1_col10 {\n",
       "            background-color: ;\n",
       "            font-weight: ;\n",
       "        }    #T_7a173040_2b0f_11ea_bd93_0242ac1c0002row1_col11 {\n",
       "            background-color: ;\n",
       "            font-weight: ;\n",
       "        }    #T_7a173040_2b0f_11ea_bd93_0242ac1c0002row1_col12 {\n",
       "            background-color: ;\n",
       "            font-weight: ;\n",
       "        }    #T_7a173040_2b0f_11ea_bd93_0242ac1c0002row2_col0 {\n",
       "            background-color: ;\n",
       "            font-weight: ;\n",
       "        }    #T_7a173040_2b0f_11ea_bd93_0242ac1c0002row2_col1 {\n",
       "            background-color: yellow;\n",
       "            font-weight: bold;\n",
       "        }    #T_7a173040_2b0f_11ea_bd93_0242ac1c0002row2_col2 {\n",
       "            background-color: yellow;\n",
       "            font-weight: bold;\n",
       "        }    #T_7a173040_2b0f_11ea_bd93_0242ac1c0002row2_col3 {\n",
       "            background-color: ;\n",
       "            font-weight: ;\n",
       "        }    #T_7a173040_2b0f_11ea_bd93_0242ac1c0002row2_col4 {\n",
       "            background-color: yellow;\n",
       "            font-weight: bold;\n",
       "        }    #T_7a173040_2b0f_11ea_bd93_0242ac1c0002row2_col5 {\n",
       "            background-color: ;\n",
       "            font-weight: ;\n",
       "        }    #T_7a173040_2b0f_11ea_bd93_0242ac1c0002row2_col6 {\n",
       "            background-color: ;\n",
       "            font-weight: ;\n",
       "        }    #T_7a173040_2b0f_11ea_bd93_0242ac1c0002row2_col7 {\n",
       "            background-color: ;\n",
       "            font-weight: ;\n",
       "        }    #T_7a173040_2b0f_11ea_bd93_0242ac1c0002row2_col8 {\n",
       "            background-color: ;\n",
       "            font-weight: ;\n",
       "        }    #T_7a173040_2b0f_11ea_bd93_0242ac1c0002row2_col9 {\n",
       "            background-color: ;\n",
       "            font-weight: ;\n",
       "        }    #T_7a173040_2b0f_11ea_bd93_0242ac1c0002row2_col10 {\n",
       "            background-color: ;\n",
       "            font-weight: ;\n",
       "        }    #T_7a173040_2b0f_11ea_bd93_0242ac1c0002row2_col11 {\n",
       "            background-color: ;\n",
       "            font-weight: ;\n",
       "        }    #T_7a173040_2b0f_11ea_bd93_0242ac1c0002row2_col12 {\n",
       "            background-color: ;\n",
       "            font-weight: ;\n",
       "        }    #T_7a173040_2b0f_11ea_bd93_0242ac1c0002row3_col0 {\n",
       "            background-color: ;\n",
       "            font-weight: ;\n",
       "        }    #T_7a173040_2b0f_11ea_bd93_0242ac1c0002row3_col1 {\n",
       "            background-color: yellow;\n",
       "            font-weight: bold;\n",
       "        }    #T_7a173040_2b0f_11ea_bd93_0242ac1c0002row3_col2 {\n",
       "            background-color: ;\n",
       "            font-weight: ;\n",
       "        }    #T_7a173040_2b0f_11ea_bd93_0242ac1c0002row3_col3 {\n",
       "            background-color: yellow;\n",
       "            font-weight: bold;\n",
       "        }    #T_7a173040_2b0f_11ea_bd93_0242ac1c0002row3_col4 {\n",
       "            background-color: ;\n",
       "            font-weight: ;\n",
       "        }    #T_7a173040_2b0f_11ea_bd93_0242ac1c0002row3_col5 {\n",
       "            background-color: ;\n",
       "            font-weight: ;\n",
       "        }    #T_7a173040_2b0f_11ea_bd93_0242ac1c0002row3_col6 {\n",
       "            background-color: ;\n",
       "            font-weight: ;\n",
       "        }    #T_7a173040_2b0f_11ea_bd93_0242ac1c0002row3_col7 {\n",
       "            background-color: ;\n",
       "            font-weight: ;\n",
       "        }    #T_7a173040_2b0f_11ea_bd93_0242ac1c0002row3_col8 {\n",
       "            background-color: ;\n",
       "            font-weight: ;\n",
       "        }    #T_7a173040_2b0f_11ea_bd93_0242ac1c0002row3_col9 {\n",
       "            background-color: ;\n",
       "            font-weight: ;\n",
       "        }    #T_7a173040_2b0f_11ea_bd93_0242ac1c0002row3_col10 {\n",
       "            background-color: ;\n",
       "            font-weight: ;\n",
       "        }    #T_7a173040_2b0f_11ea_bd93_0242ac1c0002row3_col11 {\n",
       "            background-color: ;\n",
       "            font-weight: ;\n",
       "        }    #T_7a173040_2b0f_11ea_bd93_0242ac1c0002row3_col12 {\n",
       "            background-color: ;\n",
       "            font-weight: ;\n",
       "        }    #T_7a173040_2b0f_11ea_bd93_0242ac1c0002row4_col0 {\n",
       "            background-color: ;\n",
       "            font-weight: ;\n",
       "        }    #T_7a173040_2b0f_11ea_bd93_0242ac1c0002row4_col1 {\n",
       "            background-color: yellow;\n",
       "            font-weight: bold;\n",
       "        }    #T_7a173040_2b0f_11ea_bd93_0242ac1c0002row4_col2 {\n",
       "            background-color: yellow;\n",
       "            font-weight: bold;\n",
       "        }    #T_7a173040_2b0f_11ea_bd93_0242ac1c0002row4_col3 {\n",
       "            background-color: ;\n",
       "            font-weight: ;\n",
       "        }    #T_7a173040_2b0f_11ea_bd93_0242ac1c0002row4_col4 {\n",
       "            background-color: yellow;\n",
       "            font-weight: bold;\n",
       "        }    #T_7a173040_2b0f_11ea_bd93_0242ac1c0002row4_col5 {\n",
       "            background-color: ;\n",
       "            font-weight: ;\n",
       "        }    #T_7a173040_2b0f_11ea_bd93_0242ac1c0002row4_col6 {\n",
       "            background-color: ;\n",
       "            font-weight: ;\n",
       "        }    #T_7a173040_2b0f_11ea_bd93_0242ac1c0002row4_col7 {\n",
       "            background-color: ;\n",
       "            font-weight: ;\n",
       "        }    #T_7a173040_2b0f_11ea_bd93_0242ac1c0002row4_col8 {\n",
       "            background-color: ;\n",
       "            font-weight: ;\n",
       "        }    #T_7a173040_2b0f_11ea_bd93_0242ac1c0002row4_col9 {\n",
       "            background-color: ;\n",
       "            font-weight: ;\n",
       "        }    #T_7a173040_2b0f_11ea_bd93_0242ac1c0002row4_col10 {\n",
       "            background-color: ;\n",
       "            font-weight: ;\n",
       "        }    #T_7a173040_2b0f_11ea_bd93_0242ac1c0002row4_col11 {\n",
       "            background-color: ;\n",
       "            font-weight: ;\n",
       "        }    #T_7a173040_2b0f_11ea_bd93_0242ac1c0002row4_col12 {\n",
       "            background-color: ;\n",
       "            font-weight: ;\n",
       "        }    #T_7a173040_2b0f_11ea_bd93_0242ac1c0002row5_col0 {\n",
       "            background-color: ;\n",
       "            font-weight: ;\n",
       "        }    #T_7a173040_2b0f_11ea_bd93_0242ac1c0002row5_col1 {\n",
       "            background-color: ;\n",
       "            font-weight: ;\n",
       "        }    #T_7a173040_2b0f_11ea_bd93_0242ac1c0002row5_col2 {\n",
       "            background-color: ;\n",
       "            font-weight: ;\n",
       "        }    #T_7a173040_2b0f_11ea_bd93_0242ac1c0002row5_col3 {\n",
       "            background-color: ;\n",
       "            font-weight: ;\n",
       "        }    #T_7a173040_2b0f_11ea_bd93_0242ac1c0002row5_col4 {\n",
       "            background-color: ;\n",
       "            font-weight: ;\n",
       "        }    #T_7a173040_2b0f_11ea_bd93_0242ac1c0002row5_col5 {\n",
       "            background-color: yellow;\n",
       "            font-weight: bold;\n",
       "        }    #T_7a173040_2b0f_11ea_bd93_0242ac1c0002row5_col6 {\n",
       "            background-color: ;\n",
       "            font-weight: ;\n",
       "        }    #T_7a173040_2b0f_11ea_bd93_0242ac1c0002row5_col7 {\n",
       "            background-color: ;\n",
       "            font-weight: ;\n",
       "        }    #T_7a173040_2b0f_11ea_bd93_0242ac1c0002row5_col8 {\n",
       "            background-color: ;\n",
       "            font-weight: ;\n",
       "        }    #T_7a173040_2b0f_11ea_bd93_0242ac1c0002row5_col9 {\n",
       "            background-color: ;\n",
       "            font-weight: ;\n",
       "        }    #T_7a173040_2b0f_11ea_bd93_0242ac1c0002row5_col10 {\n",
       "            background-color: ;\n",
       "            font-weight: ;\n",
       "        }    #T_7a173040_2b0f_11ea_bd93_0242ac1c0002row5_col11 {\n",
       "            background-color: ;\n",
       "            font-weight: ;\n",
       "        }    #T_7a173040_2b0f_11ea_bd93_0242ac1c0002row5_col12 {\n",
       "            background-color: ;\n",
       "            font-weight: ;\n",
       "        }    #T_7a173040_2b0f_11ea_bd93_0242ac1c0002row6_col0 {\n",
       "            background-color: ;\n",
       "            font-weight: ;\n",
       "        }    #T_7a173040_2b0f_11ea_bd93_0242ac1c0002row6_col1 {\n",
       "            background-color: ;\n",
       "            font-weight: ;\n",
       "        }    #T_7a173040_2b0f_11ea_bd93_0242ac1c0002row6_col2 {\n",
       "            background-color: ;\n",
       "            font-weight: ;\n",
       "        }    #T_7a173040_2b0f_11ea_bd93_0242ac1c0002row6_col3 {\n",
       "            background-color: ;\n",
       "            font-weight: ;\n",
       "        }    #T_7a173040_2b0f_11ea_bd93_0242ac1c0002row6_col4 {\n",
       "            background-color: ;\n",
       "            font-weight: ;\n",
       "        }    #T_7a173040_2b0f_11ea_bd93_0242ac1c0002row6_col5 {\n",
       "            background-color: ;\n",
       "            font-weight: ;\n",
       "        }    #T_7a173040_2b0f_11ea_bd93_0242ac1c0002row6_col6 {\n",
       "            background-color: yellow;\n",
       "            font-weight: bold;\n",
       "        }    #T_7a173040_2b0f_11ea_bd93_0242ac1c0002row6_col7 {\n",
       "            background-color: ;\n",
       "            font-weight: ;\n",
       "        }    #T_7a173040_2b0f_11ea_bd93_0242ac1c0002row6_col8 {\n",
       "            background-color: ;\n",
       "            font-weight: ;\n",
       "        }    #T_7a173040_2b0f_11ea_bd93_0242ac1c0002row6_col9 {\n",
       "            background-color: ;\n",
       "            font-weight: ;\n",
       "        }    #T_7a173040_2b0f_11ea_bd93_0242ac1c0002row6_col10 {\n",
       "            background-color: ;\n",
       "            font-weight: ;\n",
       "        }    #T_7a173040_2b0f_11ea_bd93_0242ac1c0002row6_col11 {\n",
       "            background-color: ;\n",
       "            font-weight: ;\n",
       "        }    #T_7a173040_2b0f_11ea_bd93_0242ac1c0002row6_col12 {\n",
       "            background-color: ;\n",
       "            font-weight: ;\n",
       "        }    #T_7a173040_2b0f_11ea_bd93_0242ac1c0002row7_col0 {\n",
       "            background-color: ;\n",
       "            font-weight: ;\n",
       "        }    #T_7a173040_2b0f_11ea_bd93_0242ac1c0002row7_col1 {\n",
       "            background-color: ;\n",
       "            font-weight: ;\n",
       "        }    #T_7a173040_2b0f_11ea_bd93_0242ac1c0002row7_col2 {\n",
       "            background-color: ;\n",
       "            font-weight: ;\n",
       "        }    #T_7a173040_2b0f_11ea_bd93_0242ac1c0002row7_col3 {\n",
       "            background-color: ;\n",
       "            font-weight: ;\n",
       "        }    #T_7a173040_2b0f_11ea_bd93_0242ac1c0002row7_col4 {\n",
       "            background-color: ;\n",
       "            font-weight: ;\n",
       "        }    #T_7a173040_2b0f_11ea_bd93_0242ac1c0002row7_col5 {\n",
       "            background-color: ;\n",
       "            font-weight: ;\n",
       "        }    #T_7a173040_2b0f_11ea_bd93_0242ac1c0002row7_col6 {\n",
       "            background-color: ;\n",
       "            font-weight: ;\n",
       "        }    #T_7a173040_2b0f_11ea_bd93_0242ac1c0002row7_col7 {\n",
       "            background-color: yellow;\n",
       "            font-weight: bold;\n",
       "        }    #T_7a173040_2b0f_11ea_bd93_0242ac1c0002row7_col8 {\n",
       "            background-color: ;\n",
       "            font-weight: ;\n",
       "        }    #T_7a173040_2b0f_11ea_bd93_0242ac1c0002row7_col9 {\n",
       "            background-color: ;\n",
       "            font-weight: ;\n",
       "        }    #T_7a173040_2b0f_11ea_bd93_0242ac1c0002row7_col10 {\n",
       "            background-color: ;\n",
       "            font-weight: ;\n",
       "        }    #T_7a173040_2b0f_11ea_bd93_0242ac1c0002row7_col11 {\n",
       "            background-color: ;\n",
       "            font-weight: ;\n",
       "        }    #T_7a173040_2b0f_11ea_bd93_0242ac1c0002row7_col12 {\n",
       "            background-color: orange;\n",
       "            font-weight: orange;\n",
       "        }    #T_7a173040_2b0f_11ea_bd93_0242ac1c0002row8_col0 {\n",
       "            background-color: ;\n",
       "            font-weight: ;\n",
       "        }    #T_7a173040_2b0f_11ea_bd93_0242ac1c0002row8_col1 {\n",
       "            background-color: ;\n",
       "            font-weight: ;\n",
       "        }    #T_7a173040_2b0f_11ea_bd93_0242ac1c0002row8_col2 {\n",
       "            background-color: ;\n",
       "            font-weight: ;\n",
       "        }    #T_7a173040_2b0f_11ea_bd93_0242ac1c0002row8_col3 {\n",
       "            background-color: ;\n",
       "            font-weight: ;\n",
       "        }    #T_7a173040_2b0f_11ea_bd93_0242ac1c0002row8_col4 {\n",
       "            background-color: ;\n",
       "            font-weight: ;\n",
       "        }    #T_7a173040_2b0f_11ea_bd93_0242ac1c0002row8_col5 {\n",
       "            background-color: ;\n",
       "            font-weight: ;\n",
       "        }    #T_7a173040_2b0f_11ea_bd93_0242ac1c0002row8_col6 {\n",
       "            background-color: ;\n",
       "            font-weight: ;\n",
       "        }    #T_7a173040_2b0f_11ea_bd93_0242ac1c0002row8_col7 {\n",
       "            background-color: ;\n",
       "            font-weight: ;\n",
       "        }    #T_7a173040_2b0f_11ea_bd93_0242ac1c0002row8_col8 {\n",
       "            background-color: yellow;\n",
       "            font-weight: bold;\n",
       "        }    #T_7a173040_2b0f_11ea_bd93_0242ac1c0002row8_col9 {\n",
       "            background-color: ;\n",
       "            font-weight: ;\n",
       "        }    #T_7a173040_2b0f_11ea_bd93_0242ac1c0002row8_col10 {\n",
       "            background-color: ;\n",
       "            font-weight: ;\n",
       "        }    #T_7a173040_2b0f_11ea_bd93_0242ac1c0002row8_col11 {\n",
       "            background-color: ;\n",
       "            font-weight: ;\n",
       "        }    #T_7a173040_2b0f_11ea_bd93_0242ac1c0002row8_col12 {\n",
       "            background-color: ;\n",
       "            font-weight: ;\n",
       "        }    #T_7a173040_2b0f_11ea_bd93_0242ac1c0002row9_col0 {\n",
       "            background-color: ;\n",
       "            font-weight: ;\n",
       "        }    #T_7a173040_2b0f_11ea_bd93_0242ac1c0002row9_col1 {\n",
       "            background-color: ;\n",
       "            font-weight: ;\n",
       "        }    #T_7a173040_2b0f_11ea_bd93_0242ac1c0002row9_col2 {\n",
       "            background-color: ;\n",
       "            font-weight: ;\n",
       "        }    #T_7a173040_2b0f_11ea_bd93_0242ac1c0002row9_col3 {\n",
       "            background-color: ;\n",
       "            font-weight: ;\n",
       "        }    #T_7a173040_2b0f_11ea_bd93_0242ac1c0002row9_col4 {\n",
       "            background-color: ;\n",
       "            font-weight: ;\n",
       "        }    #T_7a173040_2b0f_11ea_bd93_0242ac1c0002row9_col5 {\n",
       "            background-color: ;\n",
       "            font-weight: ;\n",
       "        }    #T_7a173040_2b0f_11ea_bd93_0242ac1c0002row9_col6 {\n",
       "            background-color: ;\n",
       "            font-weight: ;\n",
       "        }    #T_7a173040_2b0f_11ea_bd93_0242ac1c0002row9_col7 {\n",
       "            background-color: ;\n",
       "            font-weight: ;\n",
       "        }    #T_7a173040_2b0f_11ea_bd93_0242ac1c0002row9_col8 {\n",
       "            background-color: ;\n",
       "            font-weight: ;\n",
       "        }    #T_7a173040_2b0f_11ea_bd93_0242ac1c0002row9_col9 {\n",
       "            background-color: yellow;\n",
       "            font-weight: bold;\n",
       "        }    #T_7a173040_2b0f_11ea_bd93_0242ac1c0002row9_col10 {\n",
       "            background-color: ;\n",
       "            font-weight: ;\n",
       "        }    #T_7a173040_2b0f_11ea_bd93_0242ac1c0002row9_col11 {\n",
       "            background-color: ;\n",
       "            font-weight: ;\n",
       "        }    #T_7a173040_2b0f_11ea_bd93_0242ac1c0002row9_col12 {\n",
       "            background-color: ;\n",
       "            font-weight: ;\n",
       "        }    #T_7a173040_2b0f_11ea_bd93_0242ac1c0002row10_col0 {\n",
       "            background-color: ;\n",
       "            font-weight: ;\n",
       "        }    #T_7a173040_2b0f_11ea_bd93_0242ac1c0002row10_col1 {\n",
       "            background-color: ;\n",
       "            font-weight: ;\n",
       "        }    #T_7a173040_2b0f_11ea_bd93_0242ac1c0002row10_col2 {\n",
       "            background-color: ;\n",
       "            font-weight: ;\n",
       "        }    #T_7a173040_2b0f_11ea_bd93_0242ac1c0002row10_col3 {\n",
       "            background-color: ;\n",
       "            font-weight: ;\n",
       "        }    #T_7a173040_2b0f_11ea_bd93_0242ac1c0002row10_col4 {\n",
       "            background-color: ;\n",
       "            font-weight: ;\n",
       "        }    #T_7a173040_2b0f_11ea_bd93_0242ac1c0002row10_col5 {\n",
       "            background-color: ;\n",
       "            font-weight: ;\n",
       "        }    #T_7a173040_2b0f_11ea_bd93_0242ac1c0002row10_col6 {\n",
       "            background-color: ;\n",
       "            font-weight: ;\n",
       "        }    #T_7a173040_2b0f_11ea_bd93_0242ac1c0002row10_col7 {\n",
       "            background-color: ;\n",
       "            font-weight: ;\n",
       "        }    #T_7a173040_2b0f_11ea_bd93_0242ac1c0002row10_col8 {\n",
       "            background-color: ;\n",
       "            font-weight: ;\n",
       "        }    #T_7a173040_2b0f_11ea_bd93_0242ac1c0002row10_col9 {\n",
       "            background-color: ;\n",
       "            font-weight: ;\n",
       "        }    #T_7a173040_2b0f_11ea_bd93_0242ac1c0002row10_col10 {\n",
       "            background-color: yellow;\n",
       "            font-weight: bold;\n",
       "        }    #T_7a173040_2b0f_11ea_bd93_0242ac1c0002row10_col11 {\n",
       "            background-color: ;\n",
       "            font-weight: ;\n",
       "        }    #T_7a173040_2b0f_11ea_bd93_0242ac1c0002row10_col12 {\n",
       "            background-color: ;\n",
       "            font-weight: ;\n",
       "        }    #T_7a173040_2b0f_11ea_bd93_0242ac1c0002row11_col0 {\n",
       "            background-color: ;\n",
       "            font-weight: ;\n",
       "        }    #T_7a173040_2b0f_11ea_bd93_0242ac1c0002row11_col1 {\n",
       "            background-color: ;\n",
       "            font-weight: ;\n",
       "        }    #T_7a173040_2b0f_11ea_bd93_0242ac1c0002row11_col2 {\n",
       "            background-color: ;\n",
       "            font-weight: ;\n",
       "        }    #T_7a173040_2b0f_11ea_bd93_0242ac1c0002row11_col3 {\n",
       "            background-color: ;\n",
       "            font-weight: ;\n",
       "        }    #T_7a173040_2b0f_11ea_bd93_0242ac1c0002row11_col4 {\n",
       "            background-color: ;\n",
       "            font-weight: ;\n",
       "        }    #T_7a173040_2b0f_11ea_bd93_0242ac1c0002row11_col5 {\n",
       "            background-color: ;\n",
       "            font-weight: ;\n",
       "        }    #T_7a173040_2b0f_11ea_bd93_0242ac1c0002row11_col6 {\n",
       "            background-color: ;\n",
       "            font-weight: ;\n",
       "        }    #T_7a173040_2b0f_11ea_bd93_0242ac1c0002row11_col7 {\n",
       "            background-color: ;\n",
       "            font-weight: ;\n",
       "        }    #T_7a173040_2b0f_11ea_bd93_0242ac1c0002row11_col8 {\n",
       "            background-color: ;\n",
       "            font-weight: ;\n",
       "        }    #T_7a173040_2b0f_11ea_bd93_0242ac1c0002row11_col9 {\n",
       "            background-color: ;\n",
       "            font-weight: ;\n",
       "        }    #T_7a173040_2b0f_11ea_bd93_0242ac1c0002row11_col10 {\n",
       "            background-color: ;\n",
       "            font-weight: ;\n",
       "        }    #T_7a173040_2b0f_11ea_bd93_0242ac1c0002row11_col11 {\n",
       "            background-color: yellow;\n",
       "            font-weight: bold;\n",
       "        }    #T_7a173040_2b0f_11ea_bd93_0242ac1c0002row11_col12 {\n",
       "            background-color: ;\n",
       "            font-weight: ;\n",
       "        }    #T_7a173040_2b0f_11ea_bd93_0242ac1c0002row12_col0 {\n",
       "            background-color: ;\n",
       "            font-weight: ;\n",
       "        }    #T_7a173040_2b0f_11ea_bd93_0242ac1c0002row12_col1 {\n",
       "            background-color: ;\n",
       "            font-weight: ;\n",
       "        }    #T_7a173040_2b0f_11ea_bd93_0242ac1c0002row12_col2 {\n",
       "            background-color: ;\n",
       "            font-weight: ;\n",
       "        }    #T_7a173040_2b0f_11ea_bd93_0242ac1c0002row12_col3 {\n",
       "            background-color: ;\n",
       "            font-weight: ;\n",
       "        }    #T_7a173040_2b0f_11ea_bd93_0242ac1c0002row12_col4 {\n",
       "            background-color: ;\n",
       "            font-weight: ;\n",
       "        }    #T_7a173040_2b0f_11ea_bd93_0242ac1c0002row12_col5 {\n",
       "            background-color: ;\n",
       "            font-weight: ;\n",
       "        }    #T_7a173040_2b0f_11ea_bd93_0242ac1c0002row12_col6 {\n",
       "            background-color: ;\n",
       "            font-weight: ;\n",
       "        }    #T_7a173040_2b0f_11ea_bd93_0242ac1c0002row12_col7 {\n",
       "            background-color: orange;\n",
       "            font-weight: orange;\n",
       "        }    #T_7a173040_2b0f_11ea_bd93_0242ac1c0002row12_col8 {\n",
       "            background-color: ;\n",
       "            font-weight: ;\n",
       "        }    #T_7a173040_2b0f_11ea_bd93_0242ac1c0002row12_col9 {\n",
       "            background-color: ;\n",
       "            font-weight: ;\n",
       "        }    #T_7a173040_2b0f_11ea_bd93_0242ac1c0002row12_col10 {\n",
       "            background-color: ;\n",
       "            font-weight: ;\n",
       "        }    #T_7a173040_2b0f_11ea_bd93_0242ac1c0002row12_col11 {\n",
       "            background-color: ;\n",
       "            font-weight: ;\n",
       "        }    #T_7a173040_2b0f_11ea_bd93_0242ac1c0002row12_col12 {\n",
       "            background-color: yellow;\n",
       "            font-weight: bold;\n",
       "        }</style><table id=\"T_7a173040_2b0f_11ea_bd93_0242ac1c0002\" ><thead>    <tr>        <th class=\"blank level0\" ></th>        <th class=\"col_heading level0 col0\" >Unique_ID</th>        <th class=\"col_heading level0 col1\" >Views</th>        <th class=\"col_heading level0 col2\" >Comments</th>        <th class=\"col_heading level0 col3\" >Likes</th>        <th class=\"col_heading level0 col4\" >Popularity</th>        <th class=\"col_heading level0 col5\" >Followers</th>        <th class=\"col_heading level0 col6\" >day</th>        <th class=\"col_heading level0 col7\" >weekday</th>        <th class=\"col_heading level0 col8\" >month</th>        <th class=\"col_heading level0 col9\" >year</th>        <th class=\"col_heading level0 col10\" >hour</th>        <th class=\"col_heading level0 col11\" >minute</th>        <th class=\"col_heading level0 col12\" >weekend</th>    </tr></thead><tbody>\n",
       "                <tr>\n",
       "                        <th id=\"T_7a173040_2b0f_11ea_bd93_0242ac1c0002level0_row0\" class=\"row_heading level0 row0\" >Unique_ID</th>\n",
       "                        <td id=\"T_7a173040_2b0f_11ea_bd93_0242ac1c0002row0_col0\" class=\"data row0 col0\" >1</td>\n",
       "                        <td id=\"T_7a173040_2b0f_11ea_bd93_0242ac1c0002row0_col1\" class=\"data row0 col1\" >-0.00895631</td>\n",
       "                        <td id=\"T_7a173040_2b0f_11ea_bd93_0242ac1c0002row0_col2\" class=\"data row0 col2\" >-0.00722275</td>\n",
       "                        <td id=\"T_7a173040_2b0f_11ea_bd93_0242ac1c0002row0_col3\" class=\"data row0 col3\" >-0.0120304</td>\n",
       "                        <td id=\"T_7a173040_2b0f_11ea_bd93_0242ac1c0002row0_col4\" class=\"data row0 col4\" >-0.00105945</td>\n",
       "                        <td id=\"T_7a173040_2b0f_11ea_bd93_0242ac1c0002row0_col5\" class=\"data row0 col5\" >-0.026958</td>\n",
       "                        <td id=\"T_7a173040_2b0f_11ea_bd93_0242ac1c0002row0_col6\" class=\"data row0 col6\" >-0.0198911</td>\n",
       "                        <td id=\"T_7a173040_2b0f_11ea_bd93_0242ac1c0002row0_col7\" class=\"data row0 col7\" >0.00495059</td>\n",
       "                        <td id=\"T_7a173040_2b0f_11ea_bd93_0242ac1c0002row0_col8\" class=\"data row0 col8\" >-0.0473047</td>\n",
       "                        <td id=\"T_7a173040_2b0f_11ea_bd93_0242ac1c0002row0_col9\" class=\"data row0 col9\" >-0.0530635</td>\n",
       "                        <td id=\"T_7a173040_2b0f_11ea_bd93_0242ac1c0002row0_col10\" class=\"data row0 col10\" >0.0151922</td>\n",
       "                        <td id=\"T_7a173040_2b0f_11ea_bd93_0242ac1c0002row0_col11\" class=\"data row0 col11\" >0.0071855</td>\n",
       "                        <td id=\"T_7a173040_2b0f_11ea_bd93_0242ac1c0002row0_col12\" class=\"data row0 col12\" >0.00279496</td>\n",
       "            </tr>\n",
       "            <tr>\n",
       "                        <th id=\"T_7a173040_2b0f_11ea_bd93_0242ac1c0002level0_row1\" class=\"row_heading level0 row1\" >Views</th>\n",
       "                        <td id=\"T_7a173040_2b0f_11ea_bd93_0242ac1c0002row1_col0\" class=\"data row1 col0\" >-0.00895631</td>\n",
       "                        <td id=\"T_7a173040_2b0f_11ea_bd93_0242ac1c0002row1_col1\" class=\"data row1 col1\" >1</td>\n",
       "                        <td id=\"T_7a173040_2b0f_11ea_bd93_0242ac1c0002row1_col2\" class=\"data row1 col2\" >0.679104</td>\n",
       "                        <td id=\"T_7a173040_2b0f_11ea_bd93_0242ac1c0002row1_col3\" class=\"data row1 col3\" >0.370392</td>\n",
       "                        <td id=\"T_7a173040_2b0f_11ea_bd93_0242ac1c0002row1_col4\" class=\"data row1 col4\" >0.55742</td>\n",
       "                        <td id=\"T_7a173040_2b0f_11ea_bd93_0242ac1c0002row1_col5\" class=\"data row1 col5\" >0.103603</td>\n",
       "                        <td id=\"T_7a173040_2b0f_11ea_bd93_0242ac1c0002row1_col6\" class=\"data row1 col6\" >0.010813</td>\n",
       "                        <td id=\"T_7a173040_2b0f_11ea_bd93_0242ac1c0002row1_col7\" class=\"data row1 col7\" >0.0146455</td>\n",
       "                        <td id=\"T_7a173040_2b0f_11ea_bd93_0242ac1c0002row1_col8\" class=\"data row1 col8\" >0.00260111</td>\n",
       "                        <td id=\"T_7a173040_2b0f_11ea_bd93_0242ac1c0002row1_col9\" class=\"data row1 col9\" >-0.00904297</td>\n",
       "                        <td id=\"T_7a173040_2b0f_11ea_bd93_0242ac1c0002row1_col10\" class=\"data row1 col10\" >-0.0322909</td>\n",
       "                        <td id=\"T_7a173040_2b0f_11ea_bd93_0242ac1c0002row1_col11\" class=\"data row1 col11\" >-0.0244495</td>\n",
       "                        <td id=\"T_7a173040_2b0f_11ea_bd93_0242ac1c0002row1_col12\" class=\"data row1 col12\" >0.00295195</td>\n",
       "            </tr>\n",
       "            <tr>\n",
       "                        <th id=\"T_7a173040_2b0f_11ea_bd93_0242ac1c0002level0_row2\" class=\"row_heading level0 row2\" >Comments</th>\n",
       "                        <td id=\"T_7a173040_2b0f_11ea_bd93_0242ac1c0002row2_col0\" class=\"data row2 col0\" >-0.00722275</td>\n",
       "                        <td id=\"T_7a173040_2b0f_11ea_bd93_0242ac1c0002row2_col1\" class=\"data row2 col1\" >0.679104</td>\n",
       "                        <td id=\"T_7a173040_2b0f_11ea_bd93_0242ac1c0002row2_col2\" class=\"data row2 col2\" >1</td>\n",
       "                        <td id=\"T_7a173040_2b0f_11ea_bd93_0242ac1c0002row2_col3\" class=\"data row2 col3\" >0.261699</td>\n",
       "                        <td id=\"T_7a173040_2b0f_11ea_bd93_0242ac1c0002row2_col4\" class=\"data row2 col4\" >0.441939</td>\n",
       "                        <td id=\"T_7a173040_2b0f_11ea_bd93_0242ac1c0002row2_col5\" class=\"data row2 col5\" >0.0850337</td>\n",
       "                        <td id=\"T_7a173040_2b0f_11ea_bd93_0242ac1c0002row2_col6\" class=\"data row2 col6\" >0.00647142</td>\n",
       "                        <td id=\"T_7a173040_2b0f_11ea_bd93_0242ac1c0002row2_col7\" class=\"data row2 col7\" >-0.00184435</td>\n",
       "                        <td id=\"T_7a173040_2b0f_11ea_bd93_0242ac1c0002row2_col8\" class=\"data row2 col8\" >0.00409791</td>\n",
       "                        <td id=\"T_7a173040_2b0f_11ea_bd93_0242ac1c0002row2_col9\" class=\"data row2 col9\" >-0.00745506</td>\n",
       "                        <td id=\"T_7a173040_2b0f_11ea_bd93_0242ac1c0002row2_col10\" class=\"data row2 col10\" >0.00254773</td>\n",
       "                        <td id=\"T_7a173040_2b0f_11ea_bd93_0242ac1c0002row2_col11\" class=\"data row2 col11\" >-0.00525643</td>\n",
       "                        <td id=\"T_7a173040_2b0f_11ea_bd93_0242ac1c0002row2_col12\" class=\"data row2 col12\" >0.00239421</td>\n",
       "            </tr>\n",
       "            <tr>\n",
       "                        <th id=\"T_7a173040_2b0f_11ea_bd93_0242ac1c0002level0_row3\" class=\"row_heading level0 row3\" >Likes</th>\n",
       "                        <td id=\"T_7a173040_2b0f_11ea_bd93_0242ac1c0002row3_col0\" class=\"data row3 col0\" >-0.0120304</td>\n",
       "                        <td id=\"T_7a173040_2b0f_11ea_bd93_0242ac1c0002row3_col1\" class=\"data row3 col1\" >0.370392</td>\n",
       "                        <td id=\"T_7a173040_2b0f_11ea_bd93_0242ac1c0002row3_col2\" class=\"data row3 col2\" >0.261699</td>\n",
       "                        <td id=\"T_7a173040_2b0f_11ea_bd93_0242ac1c0002row3_col3\" class=\"data row3 col3\" >1</td>\n",
       "                        <td id=\"T_7a173040_2b0f_11ea_bd93_0242ac1c0002row3_col4\" class=\"data row3 col4\" >0.252081</td>\n",
       "                        <td id=\"T_7a173040_2b0f_11ea_bd93_0242ac1c0002row3_col5\" class=\"data row3 col5\" >0.140555</td>\n",
       "                        <td id=\"T_7a173040_2b0f_11ea_bd93_0242ac1c0002row3_col6\" class=\"data row3 col6\" >0.0170484</td>\n",
       "                        <td id=\"T_7a173040_2b0f_11ea_bd93_0242ac1c0002row3_col7\" class=\"data row3 col7\" >0.0216416</td>\n",
       "                        <td id=\"T_7a173040_2b0f_11ea_bd93_0242ac1c0002row3_col8\" class=\"data row3 col8\" >0.00785785</td>\n",
       "                        <td id=\"T_7a173040_2b0f_11ea_bd93_0242ac1c0002row3_col9\" class=\"data row3 col9\" >-0.014008</td>\n",
       "                        <td id=\"T_7a173040_2b0f_11ea_bd93_0242ac1c0002row3_col10\" class=\"data row3 col10\" >-0.0287089</td>\n",
       "                        <td id=\"T_7a173040_2b0f_11ea_bd93_0242ac1c0002row3_col11\" class=\"data row3 col11\" >-0.0214739</td>\n",
       "                        <td id=\"T_7a173040_2b0f_11ea_bd93_0242ac1c0002row3_col12\" class=\"data row3 col12\" >0.0140221</td>\n",
       "            </tr>\n",
       "            <tr>\n",
       "                        <th id=\"T_7a173040_2b0f_11ea_bd93_0242ac1c0002level0_row4\" class=\"row_heading level0 row4\" >Popularity</th>\n",
       "                        <td id=\"T_7a173040_2b0f_11ea_bd93_0242ac1c0002row4_col0\" class=\"data row4 col0\" >-0.00105945</td>\n",
       "                        <td id=\"T_7a173040_2b0f_11ea_bd93_0242ac1c0002row4_col1\" class=\"data row4 col1\" >0.55742</td>\n",
       "                        <td id=\"T_7a173040_2b0f_11ea_bd93_0242ac1c0002row4_col2\" class=\"data row4 col2\" >0.441939</td>\n",
       "                        <td id=\"T_7a173040_2b0f_11ea_bd93_0242ac1c0002row4_col3\" class=\"data row4 col3\" >0.252081</td>\n",
       "                        <td id=\"T_7a173040_2b0f_11ea_bd93_0242ac1c0002row4_col4\" class=\"data row4 col4\" >1</td>\n",
       "                        <td id=\"T_7a173040_2b0f_11ea_bd93_0242ac1c0002row4_col5\" class=\"data row4 col5\" >0.0832206</td>\n",
       "                        <td id=\"T_7a173040_2b0f_11ea_bd93_0242ac1c0002row4_col6\" class=\"data row4 col6\" >0.00702439</td>\n",
       "                        <td id=\"T_7a173040_2b0f_11ea_bd93_0242ac1c0002row4_col7\" class=\"data row4 col7\" >-0.00811837</td>\n",
       "                        <td id=\"T_7a173040_2b0f_11ea_bd93_0242ac1c0002row4_col8\" class=\"data row4 col8\" >0.00585906</td>\n",
       "                        <td id=\"T_7a173040_2b0f_11ea_bd93_0242ac1c0002row4_col9\" class=\"data row4 col9\" >-0.0244017</td>\n",
       "                        <td id=\"T_7a173040_2b0f_11ea_bd93_0242ac1c0002row4_col10\" class=\"data row4 col10\" >0.00764986</td>\n",
       "                        <td id=\"T_7a173040_2b0f_11ea_bd93_0242ac1c0002row4_col11\" class=\"data row4 col11\" >0.00309687</td>\n",
       "                        <td id=\"T_7a173040_2b0f_11ea_bd93_0242ac1c0002row4_col12\" class=\"data row4 col12\" >0.0124276</td>\n",
       "            </tr>\n",
       "            <tr>\n",
       "                        <th id=\"T_7a173040_2b0f_11ea_bd93_0242ac1c0002level0_row5\" class=\"row_heading level0 row5\" >Followers</th>\n",
       "                        <td id=\"T_7a173040_2b0f_11ea_bd93_0242ac1c0002row5_col0\" class=\"data row5 col0\" >-0.026958</td>\n",
       "                        <td id=\"T_7a173040_2b0f_11ea_bd93_0242ac1c0002row5_col1\" class=\"data row5 col1\" >0.103603</td>\n",
       "                        <td id=\"T_7a173040_2b0f_11ea_bd93_0242ac1c0002row5_col2\" class=\"data row5 col2\" >0.0850337</td>\n",
       "                        <td id=\"T_7a173040_2b0f_11ea_bd93_0242ac1c0002row5_col3\" class=\"data row5 col3\" >0.140555</td>\n",
       "                        <td id=\"T_7a173040_2b0f_11ea_bd93_0242ac1c0002row5_col4\" class=\"data row5 col4\" >0.0832206</td>\n",
       "                        <td id=\"T_7a173040_2b0f_11ea_bd93_0242ac1c0002row5_col5\" class=\"data row5 col5\" >1</td>\n",
       "                        <td id=\"T_7a173040_2b0f_11ea_bd93_0242ac1c0002row5_col6\" class=\"data row5 col6\" >0.0140291</td>\n",
       "                        <td id=\"T_7a173040_2b0f_11ea_bd93_0242ac1c0002row5_col7\" class=\"data row5 col7\" >-0.0319332</td>\n",
       "                        <td id=\"T_7a173040_2b0f_11ea_bd93_0242ac1c0002row5_col8\" class=\"data row5 col8\" >-0.00349011</td>\n",
       "                        <td id=\"T_7a173040_2b0f_11ea_bd93_0242ac1c0002row5_col9\" class=\"data row5 col9\" >-0.180333</td>\n",
       "                        <td id=\"T_7a173040_2b0f_11ea_bd93_0242ac1c0002row5_col10\" class=\"data row5 col10\" >-0.120028</td>\n",
       "                        <td id=\"T_7a173040_2b0f_11ea_bd93_0242ac1c0002row5_col11\" class=\"data row5 col11\" >-0.132121</td>\n",
       "                        <td id=\"T_7a173040_2b0f_11ea_bd93_0242ac1c0002row5_col12\" class=\"data row5 col12\" >0.0760205</td>\n",
       "            </tr>\n",
       "            <tr>\n",
       "                        <th id=\"T_7a173040_2b0f_11ea_bd93_0242ac1c0002level0_row6\" class=\"row_heading level0 row6\" >day</th>\n",
       "                        <td id=\"T_7a173040_2b0f_11ea_bd93_0242ac1c0002row6_col0\" class=\"data row6 col0\" >-0.0198911</td>\n",
       "                        <td id=\"T_7a173040_2b0f_11ea_bd93_0242ac1c0002row6_col1\" class=\"data row6 col1\" >0.010813</td>\n",
       "                        <td id=\"T_7a173040_2b0f_11ea_bd93_0242ac1c0002row6_col2\" class=\"data row6 col2\" >0.00647142</td>\n",
       "                        <td id=\"T_7a173040_2b0f_11ea_bd93_0242ac1c0002row6_col3\" class=\"data row6 col3\" >0.0170484</td>\n",
       "                        <td id=\"T_7a173040_2b0f_11ea_bd93_0242ac1c0002row6_col4\" class=\"data row6 col4\" >0.00702439</td>\n",
       "                        <td id=\"T_7a173040_2b0f_11ea_bd93_0242ac1c0002row6_col5\" class=\"data row6 col5\" >0.0140291</td>\n",
       "                        <td id=\"T_7a173040_2b0f_11ea_bd93_0242ac1c0002row6_col6\" class=\"data row6 col6\" >1</td>\n",
       "                        <td id=\"T_7a173040_2b0f_11ea_bd93_0242ac1c0002row6_col7\" class=\"data row6 col7\" >0.00471366</td>\n",
       "                        <td id=\"T_7a173040_2b0f_11ea_bd93_0242ac1c0002row6_col8\" class=\"data row6 col8\" >0.0539908</td>\n",
       "                        <td id=\"T_7a173040_2b0f_11ea_bd93_0242ac1c0002row6_col9\" class=\"data row6 col9\" >0.0997658</td>\n",
       "                        <td id=\"T_7a173040_2b0f_11ea_bd93_0242ac1c0002row6_col10\" class=\"data row6 col10\" >0.0391397</td>\n",
       "                        <td id=\"T_7a173040_2b0f_11ea_bd93_0242ac1c0002row6_col11\" class=\"data row6 col11\" >0.0256535</td>\n",
       "                        <td id=\"T_7a173040_2b0f_11ea_bd93_0242ac1c0002row6_col12\" class=\"data row6 col12\" >0.00979777</td>\n",
       "            </tr>\n",
       "            <tr>\n",
       "                        <th id=\"T_7a173040_2b0f_11ea_bd93_0242ac1c0002level0_row7\" class=\"row_heading level0 row7\" >weekday</th>\n",
       "                        <td id=\"T_7a173040_2b0f_11ea_bd93_0242ac1c0002row7_col0\" class=\"data row7 col0\" >0.00495059</td>\n",
       "                        <td id=\"T_7a173040_2b0f_11ea_bd93_0242ac1c0002row7_col1\" class=\"data row7 col1\" >0.0146455</td>\n",
       "                        <td id=\"T_7a173040_2b0f_11ea_bd93_0242ac1c0002row7_col2\" class=\"data row7 col2\" >-0.00184435</td>\n",
       "                        <td id=\"T_7a173040_2b0f_11ea_bd93_0242ac1c0002row7_col3\" class=\"data row7 col3\" >0.0216416</td>\n",
       "                        <td id=\"T_7a173040_2b0f_11ea_bd93_0242ac1c0002row7_col4\" class=\"data row7 col4\" >-0.00811837</td>\n",
       "                        <td id=\"T_7a173040_2b0f_11ea_bd93_0242ac1c0002row7_col5\" class=\"data row7 col5\" >-0.0319332</td>\n",
       "                        <td id=\"T_7a173040_2b0f_11ea_bd93_0242ac1c0002row7_col6\" class=\"data row7 col6\" >0.00471366</td>\n",
       "                        <td id=\"T_7a173040_2b0f_11ea_bd93_0242ac1c0002row7_col7\" class=\"data row7 col7\" >1</td>\n",
       "                        <td id=\"T_7a173040_2b0f_11ea_bd93_0242ac1c0002row7_col8\" class=\"data row7 col8\" >0.0107365</td>\n",
       "                        <td id=\"T_7a173040_2b0f_11ea_bd93_0242ac1c0002row7_col9\" class=\"data row7 col9\" >0.0967893</td>\n",
       "                        <td id=\"T_7a173040_2b0f_11ea_bd93_0242ac1c0002row7_col10\" class=\"data row7 col10\" >-0.0826263</td>\n",
       "                        <td id=\"T_7a173040_2b0f_11ea_bd93_0242ac1c0002row7_col11\" class=\"data row7 col11\" >-0.0349792</td>\n",
       "                        <td id=\"T_7a173040_2b0f_11ea_bd93_0242ac1c0002row7_col12\" class=\"data row7 col12\" >-0.631842</td>\n",
       "            </tr>\n",
       "            <tr>\n",
       "                        <th id=\"T_7a173040_2b0f_11ea_bd93_0242ac1c0002level0_row8\" class=\"row_heading level0 row8\" >month</th>\n",
       "                        <td id=\"T_7a173040_2b0f_11ea_bd93_0242ac1c0002row8_col0\" class=\"data row8 col0\" >-0.0473047</td>\n",
       "                        <td id=\"T_7a173040_2b0f_11ea_bd93_0242ac1c0002row8_col1\" class=\"data row8 col1\" >0.00260111</td>\n",
       "                        <td id=\"T_7a173040_2b0f_11ea_bd93_0242ac1c0002row8_col2\" class=\"data row8 col2\" >0.00409791</td>\n",
       "                        <td id=\"T_7a173040_2b0f_11ea_bd93_0242ac1c0002row8_col3\" class=\"data row8 col3\" >0.00785785</td>\n",
       "                        <td id=\"T_7a173040_2b0f_11ea_bd93_0242ac1c0002row8_col4\" class=\"data row8 col4\" >0.00585906</td>\n",
       "                        <td id=\"T_7a173040_2b0f_11ea_bd93_0242ac1c0002row8_col5\" class=\"data row8 col5\" >-0.00349011</td>\n",
       "                        <td id=\"T_7a173040_2b0f_11ea_bd93_0242ac1c0002row8_col6\" class=\"data row8 col6\" >0.0539908</td>\n",
       "                        <td id=\"T_7a173040_2b0f_11ea_bd93_0242ac1c0002row8_col7\" class=\"data row8 col7\" >0.0107365</td>\n",
       "                        <td id=\"T_7a173040_2b0f_11ea_bd93_0242ac1c0002row8_col8\" class=\"data row8 col8\" >1</td>\n",
       "                        <td id=\"T_7a173040_2b0f_11ea_bd93_0242ac1c0002row8_col9\" class=\"data row8 col9\" >-0.00407203</td>\n",
       "                        <td id=\"T_7a173040_2b0f_11ea_bd93_0242ac1c0002row8_col10\" class=\"data row8 col10\" >0.0379256</td>\n",
       "                        <td id=\"T_7a173040_2b0f_11ea_bd93_0242ac1c0002row8_col11\" class=\"data row8 col11\" >0.030357</td>\n",
       "                        <td id=\"T_7a173040_2b0f_11ea_bd93_0242ac1c0002row8_col12\" class=\"data row8 col12\" >0.00227749</td>\n",
       "            </tr>\n",
       "            <tr>\n",
       "                        <th id=\"T_7a173040_2b0f_11ea_bd93_0242ac1c0002level0_row9\" class=\"row_heading level0 row9\" >year</th>\n",
       "                        <td id=\"T_7a173040_2b0f_11ea_bd93_0242ac1c0002row9_col0\" class=\"data row9 col0\" >-0.0530635</td>\n",
       "                        <td id=\"T_7a173040_2b0f_11ea_bd93_0242ac1c0002row9_col1\" class=\"data row9 col1\" >-0.00904297</td>\n",
       "                        <td id=\"T_7a173040_2b0f_11ea_bd93_0242ac1c0002row9_col2\" class=\"data row9 col2\" >-0.00745506</td>\n",
       "                        <td id=\"T_7a173040_2b0f_11ea_bd93_0242ac1c0002row9_col3\" class=\"data row9 col3\" >-0.014008</td>\n",
       "                        <td id=\"T_7a173040_2b0f_11ea_bd93_0242ac1c0002row9_col4\" class=\"data row9 col4\" >-0.0244017</td>\n",
       "                        <td id=\"T_7a173040_2b0f_11ea_bd93_0242ac1c0002row9_col5\" class=\"data row9 col5\" >-0.180333</td>\n",
       "                        <td id=\"T_7a173040_2b0f_11ea_bd93_0242ac1c0002row9_col6\" class=\"data row9 col6\" >0.0997658</td>\n",
       "                        <td id=\"T_7a173040_2b0f_11ea_bd93_0242ac1c0002row9_col7\" class=\"data row9 col7\" >0.0967893</td>\n",
       "                        <td id=\"T_7a173040_2b0f_11ea_bd93_0242ac1c0002row9_col8\" class=\"data row9 col8\" >-0.00407203</td>\n",
       "                        <td id=\"T_7a173040_2b0f_11ea_bd93_0242ac1c0002row9_col9\" class=\"data row9 col9\" >1</td>\n",
       "                        <td id=\"T_7a173040_2b0f_11ea_bd93_0242ac1c0002row9_col10\" class=\"data row9 col10\" >0.180095</td>\n",
       "                        <td id=\"T_7a173040_2b0f_11ea_bd93_0242ac1c0002row9_col11\" class=\"data row9 col11\" >0.121408</td>\n",
       "                        <td id=\"T_7a173040_2b0f_11ea_bd93_0242ac1c0002row9_col12\" class=\"data row9 col12\" >-0.0258749</td>\n",
       "            </tr>\n",
       "            <tr>\n",
       "                        <th id=\"T_7a173040_2b0f_11ea_bd93_0242ac1c0002level0_row10\" class=\"row_heading level0 row10\" >hour</th>\n",
       "                        <td id=\"T_7a173040_2b0f_11ea_bd93_0242ac1c0002row10_col0\" class=\"data row10 col0\" >0.0151922</td>\n",
       "                        <td id=\"T_7a173040_2b0f_11ea_bd93_0242ac1c0002row10_col1\" class=\"data row10 col1\" >-0.0322909</td>\n",
       "                        <td id=\"T_7a173040_2b0f_11ea_bd93_0242ac1c0002row10_col2\" class=\"data row10 col2\" >0.00254773</td>\n",
       "                        <td id=\"T_7a173040_2b0f_11ea_bd93_0242ac1c0002row10_col3\" class=\"data row10 col3\" >-0.0287089</td>\n",
       "                        <td id=\"T_7a173040_2b0f_11ea_bd93_0242ac1c0002row10_col4\" class=\"data row10 col4\" >0.00764986</td>\n",
       "                        <td id=\"T_7a173040_2b0f_11ea_bd93_0242ac1c0002row10_col5\" class=\"data row10 col5\" >-0.120028</td>\n",
       "                        <td id=\"T_7a173040_2b0f_11ea_bd93_0242ac1c0002row10_col6\" class=\"data row10 col6\" >0.0391397</td>\n",
       "                        <td id=\"T_7a173040_2b0f_11ea_bd93_0242ac1c0002row10_col7\" class=\"data row10 col7\" >-0.0826263</td>\n",
       "                        <td id=\"T_7a173040_2b0f_11ea_bd93_0242ac1c0002row10_col8\" class=\"data row10 col8\" >0.0379256</td>\n",
       "                        <td id=\"T_7a173040_2b0f_11ea_bd93_0242ac1c0002row10_col9\" class=\"data row10 col9\" >0.180095</td>\n",
       "                        <td id=\"T_7a173040_2b0f_11ea_bd93_0242ac1c0002row10_col10\" class=\"data row10 col10\" >1</td>\n",
       "                        <td id=\"T_7a173040_2b0f_11ea_bd93_0242ac1c0002row10_col11\" class=\"data row10 col11\" >0.262272</td>\n",
       "                        <td id=\"T_7a173040_2b0f_11ea_bd93_0242ac1c0002row10_col12\" class=\"data row10 col12\" >0.00652662</td>\n",
       "            </tr>\n",
       "            <tr>\n",
       "                        <th id=\"T_7a173040_2b0f_11ea_bd93_0242ac1c0002level0_row11\" class=\"row_heading level0 row11\" >minute</th>\n",
       "                        <td id=\"T_7a173040_2b0f_11ea_bd93_0242ac1c0002row11_col0\" class=\"data row11 col0\" >0.0071855</td>\n",
       "                        <td id=\"T_7a173040_2b0f_11ea_bd93_0242ac1c0002row11_col1\" class=\"data row11 col1\" >-0.0244495</td>\n",
       "                        <td id=\"T_7a173040_2b0f_11ea_bd93_0242ac1c0002row11_col2\" class=\"data row11 col2\" >-0.00525643</td>\n",
       "                        <td id=\"T_7a173040_2b0f_11ea_bd93_0242ac1c0002row11_col3\" class=\"data row11 col3\" >-0.0214739</td>\n",
       "                        <td id=\"T_7a173040_2b0f_11ea_bd93_0242ac1c0002row11_col4\" class=\"data row11 col4\" >0.00309687</td>\n",
       "                        <td id=\"T_7a173040_2b0f_11ea_bd93_0242ac1c0002row11_col5\" class=\"data row11 col5\" >-0.132121</td>\n",
       "                        <td id=\"T_7a173040_2b0f_11ea_bd93_0242ac1c0002row11_col6\" class=\"data row11 col6\" >0.0256535</td>\n",
       "                        <td id=\"T_7a173040_2b0f_11ea_bd93_0242ac1c0002row11_col7\" class=\"data row11 col7\" >-0.0349792</td>\n",
       "                        <td id=\"T_7a173040_2b0f_11ea_bd93_0242ac1c0002row11_col8\" class=\"data row11 col8\" >0.030357</td>\n",
       "                        <td id=\"T_7a173040_2b0f_11ea_bd93_0242ac1c0002row11_col9\" class=\"data row11 col9\" >0.121408</td>\n",
       "                        <td id=\"T_7a173040_2b0f_11ea_bd93_0242ac1c0002row11_col10\" class=\"data row11 col10\" >0.262272</td>\n",
       "                        <td id=\"T_7a173040_2b0f_11ea_bd93_0242ac1c0002row11_col11\" class=\"data row11 col11\" >1</td>\n",
       "                        <td id=\"T_7a173040_2b0f_11ea_bd93_0242ac1c0002row11_col12\" class=\"data row11 col12\" >-0.0266649</td>\n",
       "            </tr>\n",
       "            <tr>\n",
       "                        <th id=\"T_7a173040_2b0f_11ea_bd93_0242ac1c0002level0_row12\" class=\"row_heading level0 row12\" >weekend</th>\n",
       "                        <td id=\"T_7a173040_2b0f_11ea_bd93_0242ac1c0002row12_col0\" class=\"data row12 col0\" >0.00279496</td>\n",
       "                        <td id=\"T_7a173040_2b0f_11ea_bd93_0242ac1c0002row12_col1\" class=\"data row12 col1\" >0.00295195</td>\n",
       "                        <td id=\"T_7a173040_2b0f_11ea_bd93_0242ac1c0002row12_col2\" class=\"data row12 col2\" >0.00239421</td>\n",
       "                        <td id=\"T_7a173040_2b0f_11ea_bd93_0242ac1c0002row12_col3\" class=\"data row12 col3\" >0.0140221</td>\n",
       "                        <td id=\"T_7a173040_2b0f_11ea_bd93_0242ac1c0002row12_col4\" class=\"data row12 col4\" >0.0124276</td>\n",
       "                        <td id=\"T_7a173040_2b0f_11ea_bd93_0242ac1c0002row12_col5\" class=\"data row12 col5\" >0.0760205</td>\n",
       "                        <td id=\"T_7a173040_2b0f_11ea_bd93_0242ac1c0002row12_col6\" class=\"data row12 col6\" >0.00979777</td>\n",
       "                        <td id=\"T_7a173040_2b0f_11ea_bd93_0242ac1c0002row12_col7\" class=\"data row12 col7\" >-0.631842</td>\n",
       "                        <td id=\"T_7a173040_2b0f_11ea_bd93_0242ac1c0002row12_col8\" class=\"data row12 col8\" >0.00227749</td>\n",
       "                        <td id=\"T_7a173040_2b0f_11ea_bd93_0242ac1c0002row12_col9\" class=\"data row12 col9\" >-0.0258749</td>\n",
       "                        <td id=\"T_7a173040_2b0f_11ea_bd93_0242ac1c0002row12_col10\" class=\"data row12 col10\" >0.00652662</td>\n",
       "                        <td id=\"T_7a173040_2b0f_11ea_bd93_0242ac1c0002row12_col11\" class=\"data row12 col11\" >-0.0266649</td>\n",
       "                        <td id=\"T_7a173040_2b0f_11ea_bd93_0242ac1c0002row12_col12\" class=\"data row12 col12\" >1</td>\n",
       "            </tr>\n",
       "    </tbody></table>"
      ],
      "text/plain": [
       "<pandas.io.formats.style.Styler at 0x7f337a45bcc0>"
      ]
     },
     "execution_count": 101,
     "metadata": {
      "tags": []
     },
     "output_type": "execute_result"
    }
   ],
   "source": [
    "train_updated.corr().style.\\\n",
    "  applymap(yellow).\\\n",
    "  applymap(bold)"
   ]
  },
  {
   "cell_type": "code",
   "execution_count": 0,
   "metadata": {
    "colab": {
     "base_uri": "https://localhost:8080/",
     "height": 197
    },
    "colab_type": "code",
    "id": "Q6qUviqrN9V3",
    "outputId": "f8878b8d-fe89-4e98-dd50-eb4f3366f7a4"
   },
   "outputs": [
    {
     "data": {
      "text/html": [
       "<div>\n",
       "<style scoped>\n",
       "    .dataframe tbody tr th:only-of-type {\n",
       "        vertical-align: middle;\n",
       "    }\n",
       "\n",
       "    .dataframe tbody tr th {\n",
       "        vertical-align: top;\n",
       "    }\n",
       "\n",
       "    .dataframe thead th {\n",
       "        text-align: right;\n",
       "    }\n",
       "</style>\n",
       "<table border=\"1\" class=\"dataframe\">\n",
       "  <thead>\n",
       "    <tr style=\"text-align: right;\">\n",
       "      <th></th>\n",
       "      <th>Name</th>\n",
       "      <th>Genre</th>\n",
       "      <th>Song_Name</th>\n",
       "    </tr>\n",
       "  </thead>\n",
       "  <tbody>\n",
       "    <tr>\n",
       "      <th>0</th>\n",
       "      <td>Hardstyle</td>\n",
       "      <td>danceedm</td>\n",
       "      <td>N-Vitral presents BOMBSQUAD - Poison Spitter (...</td>\n",
       "    </tr>\n",
       "    <tr>\n",
       "      <th>1</th>\n",
       "      <td>Dj Aladdin</td>\n",
       "      <td>danceedm</td>\n",
       "      <td>Dj Aladdin - Old School Hip Hop Quick Mix</td>\n",
       "    </tr>\n",
       "    <tr>\n",
       "      <th>2</th>\n",
       "      <td>Maxximize On Air</td>\n",
       "      <td>danceedm</td>\n",
       "      <td>Maxximize On Air - Mixed by Blasterjaxx - Epis...</td>\n",
       "    </tr>\n",
       "    <tr>\n",
       "      <th>3</th>\n",
       "      <td>GR6 EXPLODE</td>\n",
       "      <td>rbsoul</td>\n",
       "      <td>MC Yago - Tenho Compromisso (DJ R7)</td>\n",
       "    </tr>\n",
       "    <tr>\n",
       "      <th>4</th>\n",
       "      <td>Tritonal</td>\n",
       "      <td>danceedm</td>\n",
       "      <td>Escape (feat. Steph Jones)</td>\n",
       "    </tr>\n",
       "  </tbody>\n",
       "</table>\n",
       "</div>"
      ],
      "text/plain": [
       "               Name  ...                                          Song_Name\n",
       "0         Hardstyle  ...  N-Vitral presents BOMBSQUAD - Poison Spitter (...\n",
       "1        Dj Aladdin  ...          Dj Aladdin - Old School Hip Hop Quick Mix\n",
       "2  Maxximize On Air  ...  Maxximize On Air - Mixed by Blasterjaxx - Epis...\n",
       "3       GR6 EXPLODE  ...                MC Yago - Tenho Compromisso (DJ R7)\n",
       "4          Tritonal  ...                         Escape (feat. Steph Jones)\n",
       "\n",
       "[5 rows x 3 columns]"
      ]
     },
     "execution_count": 24,
     "metadata": {
      "tags": []
     },
     "output_type": "execute_result"
    }
   ],
   "source": [
    "category_data=train_updated.select_dtypes(['object']).copy()\n",
    "\n",
    "category_data.head()"
   ]
  },
  {
   "cell_type": "code",
   "execution_count": 0,
   "metadata": {
    "colab": {
     "base_uri": "https://localhost:8080/",
     "height": 150
    },
    "colab_type": "code",
    "id": "ZydHhIS6N_j8",
    "outputId": "49a7bc6d-f0d6-440d-fc6c-3516586b3a7e"
   },
   "outputs": [
    {
     "name": "stdout",
     "output_type": "stream",
     "text": [
      "category Index(['Name', 'Genre', 'Country', 'Song_Name', 'Timestamp'], dtype='object')\n",
      "--------------------------------------------------\n",
      "numeric ['Likes', 'Popularity', 'Comments', 'Followers', 'Unique_ID', 'Views']\n",
      "Name                 1209\n",
      "Genre                  21\n",
      "Country                 1\n",
      "Song_Name           78457\n",
      "Timestamp           68187\n"
     ]
    }
   ],
   "source": [
    "category_col=category_data.columns\n",
    "numeric=list(set(train_updated.columns)-set(category_col))\n",
    "print(\"category\",category_col)\n",
    "print('-'*50)\n",
    "print(\"numeric\",numeric)\n",
    "\n",
    "#### count of unique categories\n",
    "\n",
    "for i in category_col:\n",
    "    unique_val_count(train[i])"
   ]
  },
  {
   "cell_type": "markdown",
   "metadata": {
    "colab_type": "text",
    "id": "-b0psW43ODJL"
   },
   "source": [
    "\n",
    "**1. We can see test name has some more values so we combine test and train and encode but for genre we can encode using mean targeting**\n",
    "\n",
    "**2. As country is const so we drop**\n"
   ]
  },
  {
   "cell_type": "code",
   "execution_count": 0,
   "metadata": {
    "colab": {},
    "colab_type": "code",
    "id": "QkV7SFsM90mg"
   },
   "outputs": [],
   "source": [
    "def unique_val_count(column):\n",
    "    print('{:<15s}{:10d}'.format(column.name,column.nunique()))\n"
   ]
  },
  {
   "cell_type": "markdown",
   "metadata": {},
   "source": [
    "**Density plot of View column**"
   ]
  },
  {
   "cell_type": "code",
   "execution_count": 0,
   "metadata": {
    "colab": {
     "base_uri": "https://localhost:8080/",
     "height": 523
    },
    "colab_type": "code",
    "id": "Z3m7wUS5P9t3",
    "outputId": "c853b5b0-5087-49ea-b0b0-2cfafe0df953"
   },
   "outputs": [
    {
     "data": {
      "text/plain": [
       "<matplotlib.axes._subplots.AxesSubplot at 0x7fcd6478ebe0>"
      ]
     },
     "execution_count": 115,
     "metadata": {
      "tags": []
     },
     "output_type": "execute_result"
    },
    {
     "data": {
      "image/png": "[encoded data removed]",
      "text/plain": [
       "<Figure size 720x576 with 1 Axes>"
      ]
     },
     "metadata": {
      "tags": []
     },
     "output_type": "display_data"
    }
   ],
   "source": [
    "plt.figure(figsize=(10,8))\n",
    "sns.distplot(train_updated['Views'])\n",
    "# (non_zero)"
   ]
  },
  {
   "cell_type": "markdown",
   "metadata": {},
   "source": []
  },
  {
   "cell_type": "code",
   "execution_count": 0,
   "metadata": {
    "colab": {},
    "colab_type": "code",
    "id": "c-CYAgV_-kZt"
   },
   "outputs": [],
   "source": [
    "mean_encode = train_updated.groupby('Genre')['Views'].mean()\n",
    "train_updated.loc[:,'Gen_encode']=train_updated['Genre'].map(mean_encode)\n",
    "test_updated.loc[:,'Gen_encode']=test_updated['Genre'].map(mean_encode)\n",
    "\n",
    "train_updated.drop('Genre',axis=1,inplace=True)\n",
    "test_updated.drop('Genre',axis=1,inplace=True)\n"
   ]
  },
  {
   "cell_type": "code",
   "execution_count": 0,
   "metadata": {
    "colab": {
     "base_uri": "https://localhost:8080/",
     "height": 197
    },
    "colab_type": "code",
    "id": "G4FTERqG2ddp",
    "outputId": "3e5c4e85-1746-4157-ecfa-9a500ae0be97"
   },
   "outputs": [
    {
     "data": {
      "text/html": [
       "<div>\n",
       "<style scoped>\n",
       "    .dataframe tbody tr th:only-of-type {\n",
       "        vertical-align: middle;\n",
       "    }\n",
       "\n",
       "    .dataframe tbody tr th {\n",
       "        vertical-align: top;\n",
       "    }\n",
       "\n",
       "    .dataframe thead th {\n",
       "        text-align: right;\n",
       "    }\n",
       "</style>\n",
       "<table border=\"1\" class=\"dataframe\">\n",
       "  <thead>\n",
       "    <tr style=\"text-align: right;\">\n",
       "      <th></th>\n",
       "      <th>Unnamed: 0</th>\n",
       "      <th>Comments</th>\n",
       "      <th>Likes</th>\n",
       "      <th>Popularity</th>\n",
       "      <th>Followers</th>\n",
       "      <th>Gen_encode</th>\n",
       "      <th>day</th>\n",
       "      <th>weekday</th>\n",
       "      <th>month</th>\n",
       "      <th>year</th>\n",
       "      <th>hour</th>\n",
       "      <th>minute</th>\n",
       "      <th>train</th>\n",
       "      <th>Views</th>\n",
       "      <th>Name_encode</th>\n",
       "    </tr>\n",
       "  </thead>\n",
       "  <tbody>\n",
       "    <tr>\n",
       "      <th>0</th>\n",
       "      <td>0</td>\n",
       "      <td>4</td>\n",
       "      <td>499</td>\n",
       "      <td>97.0</td>\n",
       "      <td>119563</td>\n",
       "      <td>266700.718641</td>\n",
       "      <td>30</td>\n",
       "      <td>4</td>\n",
       "      <td>3</td>\n",
       "      <td>2018</td>\n",
       "      <td>15</td>\n",
       "      <td>24</td>\n",
       "      <td>1</td>\n",
       "      <td>14017</td>\n",
       "      <td>29089.244662</td>\n",
       "    </tr>\n",
       "    <tr>\n",
       "      <th>1</th>\n",
       "      <td>1</td>\n",
       "      <td>17</td>\n",
       "      <td>49</td>\n",
       "      <td>17.0</td>\n",
       "      <td>2141</td>\n",
       "      <td>266700.718641</td>\n",
       "      <td>20</td>\n",
       "      <td>0</td>\n",
       "      <td>6</td>\n",
       "      <td>2016</td>\n",
       "      <td>5</td>\n",
       "      <td>58</td>\n",
       "      <td>1</td>\n",
       "      <td>1918</td>\n",
       "      <td>14068.125000</td>\n",
       "    </tr>\n",
       "    <tr>\n",
       "      <th>2</th>\n",
       "      <td>2</td>\n",
       "      <td>11</td>\n",
       "      <td>312</td>\n",
       "      <td>91.0</td>\n",
       "      <td>22248</td>\n",
       "      <td>266700.718641</td>\n",
       "      <td>8</td>\n",
       "      <td>4</td>\n",
       "      <td>5</td>\n",
       "      <td>2015</td>\n",
       "      <td>17</td>\n",
       "      <td>45</td>\n",
       "      <td>1</td>\n",
       "      <td>9668</td>\n",
       "      <td>16728.218750</td>\n",
       "    </tr>\n",
       "    <tr>\n",
       "      <th>3</th>\n",
       "      <td>3</td>\n",
       "      <td>2</td>\n",
       "      <td>2400</td>\n",
       "      <td>76.0</td>\n",
       "      <td>393655</td>\n",
       "      <td>609416.458326</td>\n",
       "      <td>8</td>\n",
       "      <td>3</td>\n",
       "      <td>6</td>\n",
       "      <td>2017</td>\n",
       "      <td>23</td>\n",
       "      <td>50</td>\n",
       "      <td>1</td>\n",
       "      <td>113036</td>\n",
       "      <td>208294.610000</td>\n",
       "    </tr>\n",
       "    <tr>\n",
       "      <th>4</th>\n",
       "      <td>4</td>\n",
       "      <td>81</td>\n",
       "      <td>3031</td>\n",
       "      <td>699.0</td>\n",
       "      <td>201030</td>\n",
       "      <td>266700.718641</td>\n",
       "      <td>17</td>\n",
       "      <td>5</td>\n",
       "      <td>9</td>\n",
       "      <td>2016</td>\n",
       "      <td>20</td>\n",
       "      <td>50</td>\n",
       "      <td>1</td>\n",
       "      <td>110024</td>\n",
       "      <td>107655.732394</td>\n",
       "    </tr>\n",
       "  </tbody>\n",
       "</table>\n",
       "</div>"
      ],
      "text/plain": [
       "   Unnamed: 0  Comments  Likes  ...  train   Views    Name_encode\n",
       "0           0         4    499  ...      1   14017   29089.244662\n",
       "1           1        17     49  ...      1    1918   14068.125000\n",
       "2           2        11    312  ...      1    9668   16728.218750\n",
       "3           3         2   2400  ...      1  113036  208294.610000\n",
       "4           4        81   3031  ...      1  110024  107655.732394\n",
       "\n",
       "[5 rows x 15 columns]"
      ]
     },
     "execution_count": 42,
     "metadata": {
      "tags": []
     },
     "output_type": "execute_result"
    }
   ],
   "source": [
    "mean_encode = train.groupby('Name')['Views'].mean()\n",
    "train_updated.loc[:,'Name_encode']=train['Name'].map(mean_encode)\n",
    "test_updated.loc[:,'Name_encode']=test['Name'].map(mean_encode)\n"
   ]
  },
  {
   "cell_type": "code",
   "execution_count": 0,
   "metadata": {
    "colab": {
     "base_uri": "https://localhost:8080/",
     "height": 33
    },
    "colab_type": "code",
    "id": "RVmlrjPx3fzC",
    "outputId": "aaebb315-e74b-4cc7-8736-8cc6bad107d2"
   },
   "outputs": [
    {
     "data": {
      "text/plain": [
       "0"
      ]
     },
     "execution_count": 52,
     "metadata": {
      "tags": []
     },
     "output_type": "execute_result"
    }
   ],
   "source": [
    "test_updated.Name_encode.isna().sum()\n",
    "# train_updated.Name_encode.isna().sum()"
   ]
  },
  {
   "cell_type": "code",
   "execution_count": 0,
   "metadata": {
    "colab": {},
    "colab_type": "code",
    "id": "rc1oYvQy4I7Z"
   },
   "outputs": [],
   "source": [
    "test_updated=test_updated.fillna(test_updated.mean())"
   ]
  },
  {
   "cell_type": "code",
   "execution_count": 0,
   "metadata": {
    "colab": {},
    "colab_type": "code",
    "id": "pYQxmbXMp2ux"
   },
   "outputs": [],
   "source": [
    "y_train=train['Views']"
   ]
  },
  {
   "cell_type": "code",
   "execution_count": 0,
   "metadata": {
    "colab": {
     "base_uri": "https://localhost:8080/",
     "height": 50
    },
    "colab_type": "code",
    "id": "EX4OjZ-rpk0V",
    "outputId": "55a753e2-9c35-4d3f-af48-371901d0f6cd"
   },
   "outputs": [
    {
     "name": "stdout",
     "output_type": "stream",
     "text": [
      "Number of data points in train data (78458, 12)\n",
      "Number of data points in test data (19615, 12)\n"
     ]
    }
   ],
   "source": [
    "print(\"Number of data points in train data\", train_updated.shape)\n",
    "print(\"Number of data points in test data\", test_updated.shape)"
   ]
  },
  {
   "cell_type": "code",
   "execution_count": 0,
   "metadata": {
    "colab": {},
    "colab_type": "code",
    "id": "gYRTBIXsqbP2"
   },
   "outputs": [],
   "source": [
    "train_updated['train']=1\n",
    "test_updated['train']=0"
   ]
  },
  {
   "cell_type": "code",
   "execution_count": 0,
   "metadata": {
    "colab": {},
    "colab_type": "code",
    "id": "HA0Sqiyds9ID"
   },
   "outputs": [],
   "source": [
    "combined=pd.concat([train_updated[['Name','train']],test_updated[['Name','train']]])"
   ]
  },
  {
   "cell_type": "code",
   "execution_count": 0,
   "metadata": {
    "colab": {
     "base_uri": "https://localhost:8080/",
     "height": 33
    },
    "colab_type": "code",
    "id": "aSnhEdjvyXHf",
    "outputId": "2e5af706-f7cd-43e1-fd96-f8fbff6fabc2"
   },
   "outputs": [
    {
     "name": "stdout",
     "output_type": "stream",
     "text": [
      "(98073, 2)\n"
     ]
    }
   ],
   "source": [
    "print(combined.shape)"
   ]
  },
  {
   "cell_type": "markdown",
   "metadata": {},
   "source": [
    "**Mean target Encoding of the Name Column**"
   ]
  },
  {
   "cell_type": "code",
   "execution_count": 0,
   "metadata": {
    "colab": {
     "base_uri": "https://localhost:8080/",
     "height": 77
    },
    "colab_type": "code",
    "id": "gRQLwZVWysZ_",
    "outputId": "785552b2-265a-407b-82a3-9775b55a0008"
   },
   "outputs": [
    {
     "data": {
      "text/html": [
       "<div>\n",
       "<style scoped>\n",
       "    .dataframe tbody tr th:only-of-type {\n",
       "        vertical-align: middle;\n",
       "    }\n",
       "\n",
       "    .dataframe tbody tr th {\n",
       "        vertical-align: top;\n",
       "    }\n",
       "\n",
       "    .dataframe thead th {\n",
       "        text-align: right;\n",
       "    }\n",
       "</style>\n",
       "<table border=\"1\" class=\"dataframe\">\n",
       "  <thead>\n",
       "    <tr style=\"text-align: right;\">\n",
       "      <th></th>\n",
       "      <th>Name_0</th>\n",
       "      <th>Name_1</th>\n",
       "      <th>Name_2</th>\n",
       "      <th>Name_3</th>\n",
       "      <th>Name_4</th>\n",
       "      <th>Name_5</th>\n",
       "      <th>Name_6</th>\n",
       "      <th>Name_7</th>\n",
       "      <th>Name_8</th>\n",
       "      <th>Name_9</th>\n",
       "      <th>Name_10</th>\n",
       "      <th>Name_11</th>\n",
       "      <th>train</th>\n",
       "    </tr>\n",
       "  </thead>\n",
       "  <tbody>\n",
       "    <tr>\n",
       "      <th>2182</th>\n",
       "      <td>0</td>\n",
       "      <td>0</td>\n",
       "      <td>0</td>\n",
       "      <td>0</td>\n",
       "      <td>1</td>\n",
       "      <td>1</td>\n",
       "      <td>1</td>\n",
       "      <td>0</td>\n",
       "      <td>0</td>\n",
       "      <td>0</td>\n",
       "      <td>0</td>\n",
       "      <td>1</td>\n",
       "      <td>1</td>\n",
       "    </tr>\n",
       "  </tbody>\n",
       "</table>\n",
       "</div>"
      ],
      "text/plain": [
       "      Name_0  Name_1  Name_2  Name_3  ...  Name_9  Name_10  Name_11  train\n",
       "2182       0       0       0       0  ...       0        0        1      1\n",
       "\n",
       "[1 rows x 13 columns]"
      ]
     },
     "execution_count": 41,
     "metadata": {
      "tags": []
     },
     "output_type": "execute_result"
    }
   ],
   "source": [
    "import category_encoders as ce\n",
    "\t\n",
    "encoder = ce.BinaryEncoder(cols=['Name'])\n",
    "df_binary = encoder.fit_transform(combined)\n"
   ]
  },
  {
   "cell_type": "code",
   "execution_count": 0,
   "metadata": {
    "colab": {},
    "colab_type": "code",
    "id": "xdhENBzYzM2s"
   },
   "outputs": [],
   "source": [
    "train_new = pd.concat([train_updated,df_binary[df_binary['train']==1]],axis=1)"
   ]
  },
  {
   "cell_type": "code",
   "execution_count": 0,
   "metadata": {
    "colab": {
     "base_uri": "https://localhost:8080/",
     "height": 217
    },
    "colab_type": "code",
    "id": "rVPOqfK0z341",
    "outputId": "b620e23c-8bcf-418e-8ac8-dc81605e8d40"
   },
   "outputs": [
    {
     "data": {
      "text/html": [
       "<div>\n",
       "<style scoped>\n",
       "    .dataframe tbody tr th:only-of-type {\n",
       "        vertical-align: middle;\n",
       "    }\n",
       "\n",
       "    .dataframe tbody tr th {\n",
       "        vertical-align: top;\n",
       "    }\n",
       "\n",
       "    .dataframe thead th {\n",
       "        text-align: right;\n",
       "    }\n",
       "</style>\n",
       "<table border=\"1\" class=\"dataframe\">\n",
       "  <thead>\n",
       "    <tr style=\"text-align: right;\">\n",
       "      <th></th>\n",
       "      <th>Comments</th>\n",
       "      <th>Likes</th>\n",
       "      <th>Popularity</th>\n",
       "      <th>Followers</th>\n",
       "      <th>Gen_encode</th>\n",
       "      <th>day</th>\n",
       "      <th>weekday</th>\n",
       "      <th>month</th>\n",
       "      <th>year</th>\n",
       "      <th>hour</th>\n",
       "      <th>minute</th>\n",
       "      <th>Name_0</th>\n",
       "      <th>Name_1</th>\n",
       "      <th>Name_2</th>\n",
       "      <th>Name_3</th>\n",
       "      <th>Name_4</th>\n",
       "      <th>Name_5</th>\n",
       "      <th>Name_6</th>\n",
       "      <th>Name_7</th>\n",
       "      <th>Name_8</th>\n",
       "      <th>Name_9</th>\n",
       "      <th>Name_10</th>\n",
       "      <th>Name_11</th>\n",
       "    </tr>\n",
       "  </thead>\n",
       "  <tbody>\n",
       "    <tr>\n",
       "      <th>0</th>\n",
       "      <td>4</td>\n",
       "      <td>499</td>\n",
       "      <td>97.0</td>\n",
       "      <td>119563</td>\n",
       "      <td>266700.718641</td>\n",
       "      <td>30</td>\n",
       "      <td>4</td>\n",
       "      <td>3</td>\n",
       "      <td>2018</td>\n",
       "      <td>15</td>\n",
       "      <td>24</td>\n",
       "      <td>0</td>\n",
       "      <td>0</td>\n",
       "      <td>0</td>\n",
       "      <td>0</td>\n",
       "      <td>0</td>\n",
       "      <td>0</td>\n",
       "      <td>0</td>\n",
       "      <td>0</td>\n",
       "      <td>0</td>\n",
       "      <td>0</td>\n",
       "      <td>0</td>\n",
       "      <td>1</td>\n",
       "    </tr>\n",
       "    <tr>\n",
       "      <th>1</th>\n",
       "      <td>17</td>\n",
       "      <td>49</td>\n",
       "      <td>17.0</td>\n",
       "      <td>2141</td>\n",
       "      <td>266700.718641</td>\n",
       "      <td>20</td>\n",
       "      <td>0</td>\n",
       "      <td>6</td>\n",
       "      <td>2016</td>\n",
       "      <td>5</td>\n",
       "      <td>58</td>\n",
       "      <td>0</td>\n",
       "      <td>0</td>\n",
       "      <td>0</td>\n",
       "      <td>0</td>\n",
       "      <td>0</td>\n",
       "      <td>0</td>\n",
       "      <td>0</td>\n",
       "      <td>0</td>\n",
       "      <td>0</td>\n",
       "      <td>0</td>\n",
       "      <td>1</td>\n",
       "      <td>0</td>\n",
       "    </tr>\n",
       "    <tr>\n",
       "      <th>2</th>\n",
       "      <td>11</td>\n",
       "      <td>312</td>\n",
       "      <td>91.0</td>\n",
       "      <td>22248</td>\n",
       "      <td>266700.718641</td>\n",
       "      <td>8</td>\n",
       "      <td>4</td>\n",
       "      <td>5</td>\n",
       "      <td>2015</td>\n",
       "      <td>17</td>\n",
       "      <td>45</td>\n",
       "      <td>0</td>\n",
       "      <td>0</td>\n",
       "      <td>0</td>\n",
       "      <td>0</td>\n",
       "      <td>0</td>\n",
       "      <td>0</td>\n",
       "      <td>0</td>\n",
       "      <td>0</td>\n",
       "      <td>0</td>\n",
       "      <td>0</td>\n",
       "      <td>1</td>\n",
       "      <td>1</td>\n",
       "    </tr>\n",
       "    <tr>\n",
       "      <th>3</th>\n",
       "      <td>2</td>\n",
       "      <td>2400</td>\n",
       "      <td>76.0</td>\n",
       "      <td>393655</td>\n",
       "      <td>609416.458326</td>\n",
       "      <td>8</td>\n",
       "      <td>3</td>\n",
       "      <td>6</td>\n",
       "      <td>2017</td>\n",
       "      <td>23</td>\n",
       "      <td>50</td>\n",
       "      <td>0</td>\n",
       "      <td>0</td>\n",
       "      <td>0</td>\n",
       "      <td>0</td>\n",
       "      <td>0</td>\n",
       "      <td>0</td>\n",
       "      <td>0</td>\n",
       "      <td>0</td>\n",
       "      <td>0</td>\n",
       "      <td>1</td>\n",
       "      <td>0</td>\n",
       "      <td>0</td>\n",
       "    </tr>\n",
       "    <tr>\n",
       "      <th>4</th>\n",
       "      <td>81</td>\n",
       "      <td>3031</td>\n",
       "      <td>699.0</td>\n",
       "      <td>201030</td>\n",
       "      <td>266700.718641</td>\n",
       "      <td>17</td>\n",
       "      <td>5</td>\n",
       "      <td>9</td>\n",
       "      <td>2016</td>\n",
       "      <td>20</td>\n",
       "      <td>50</td>\n",
       "      <td>0</td>\n",
       "      <td>0</td>\n",
       "      <td>0</td>\n",
       "      <td>0</td>\n",
       "      <td>0</td>\n",
       "      <td>0</td>\n",
       "      <td>0</td>\n",
       "      <td>0</td>\n",
       "      <td>0</td>\n",
       "      <td>1</td>\n",
       "      <td>0</td>\n",
       "      <td>1</td>\n",
       "    </tr>\n",
       "  </tbody>\n",
       "</table>\n",
       "</div>"
      ],
      "text/plain": [
       "   Comments  Likes  Popularity  Followers  ...  Name_8  Name_9  Name_10  Name_11\n",
       "0         4    499        97.0     119563  ...       0       0        0        1\n",
       "1        17     49        17.0       2141  ...       0       0        1        0\n",
       "2        11    312        91.0      22248  ...       0       0        1        1\n",
       "3         2   2400        76.0     393655  ...       0       1        0        0\n",
       "4        81   3031       699.0     201030  ...       0       1        0        1\n",
       "\n",
       "[5 rows x 23 columns]"
      ]
     },
     "execution_count": 61,
     "metadata": {
      "tags": []
     },
     "output_type": "execute_result"
    }
   ],
   "source": [
    "train_new.head()"
   ]
  },
  {
   "cell_type": "code",
   "execution_count": 0,
   "metadata": {
    "colab": {},
    "colab_type": "code",
    "id": "s1Z-8cay0Tjp"
   },
   "outputs": [],
   "source": [
    "test_new = pd.concat([test_updated,df_binary[df_binary['train']==0]],axis=1)\n",
    "# test_new.head()"
   ]
  },
  {
   "cell_type": "code",
   "execution_count": 0,
   "metadata": {
    "colab": {},
    "colab_type": "code",
    "id": "IGF8jQ2H0dYw"
   },
   "outputs": [],
   "source": [
    "test_new.drop(columns=\"Name\",inplace=True)\n",
    "train_new.drop(columns=\"Name\",inplace=True)\n",
    "test_new.drop(columns=\"train\",inplace=True)\n",
    "train_new.drop(columns=\"train\",inplace=True)"
   ]
  },
  {
   "cell_type": "code",
   "execution_count": 0,
   "metadata": {
    "colab": {
     "base_uri": "https://localhost:8080/",
     "height": 97
    },
    "colab_type": "code",
    "id": "snKqCzvHGayL",
    "outputId": "76628073-a914-4167-f350-8b5ec7d4fc3f"
   },
   "outputs": [
    {
     "data": {
      "text/html": [
       "<div>\n",
       "<style scoped>\n",
       "    .dataframe tbody tr th:only-of-type {\n",
       "        vertical-align: middle;\n",
       "    }\n",
       "\n",
       "    .dataframe tbody tr th {\n",
       "        vertical-align: top;\n",
       "    }\n",
       "\n",
       "    .dataframe thead th {\n",
       "        text-align: right;\n",
       "    }\n",
       "</style>\n",
       "<table border=\"1\" class=\"dataframe\">\n",
       "  <thead>\n",
       "    <tr style=\"text-align: right;\">\n",
       "      <th></th>\n",
       "      <th>Comments</th>\n",
       "      <th>Likes</th>\n",
       "      <th>Popularity</th>\n",
       "      <th>Followers</th>\n",
       "      <th>day</th>\n",
       "      <th>weekday</th>\n",
       "      <th>month</th>\n",
       "      <th>year</th>\n",
       "      <th>hour</th>\n",
       "      <th>minute</th>\n",
       "      <th>Name_0</th>\n",
       "      <th>Name_1</th>\n",
       "      <th>Name_2</th>\n",
       "      <th>Name_3</th>\n",
       "      <th>Name_4</th>\n",
       "      <th>Name_5</th>\n",
       "      <th>Name_6</th>\n",
       "      <th>Name_7</th>\n",
       "      <th>Name_8</th>\n",
       "      <th>Name_9</th>\n",
       "      <th>Name_10</th>\n",
       "      <th>Name_11</th>\n",
       "      <th>Gen_encode</th>\n",
       "    </tr>\n",
       "  </thead>\n",
       "  <tbody>\n",
       "    <tr>\n",
       "      <th>17642</th>\n",
       "      <td>75</td>\n",
       "      <td>4,411</td>\n",
       "      <td>706</td>\n",
       "      <td>460718</td>\n",
       "      <td>10</td>\n",
       "      <td>1</td>\n",
       "      <td>12</td>\n",
       "      <td>2013</td>\n",
       "      <td>16</td>\n",
       "      <td>10</td>\n",
       "      <td>0</td>\n",
       "      <td>0</td>\n",
       "      <td>0</td>\n",
       "      <td>1</td>\n",
       "      <td>1</td>\n",
       "      <td>0</td>\n",
       "      <td>0</td>\n",
       "      <td>0</td>\n",
       "      <td>1</td>\n",
       "      <td>0</td>\n",
       "      <td>1</td>\n",
       "      <td>0</td>\n",
       "      <td>266700.718641</td>\n",
       "    </tr>\n",
       "  </tbody>\n",
       "</table>\n",
       "</div>"
      ],
      "text/plain": [
       "       Comments  Likes Popularity  ...  Name_10  Name_11     Gen_encode\n",
       "17642        75  4,411        706  ...        1        0  266700.718641\n",
       "\n",
       "[1 rows x 23 columns]"
      ]
     },
     "execution_count": 154,
     "metadata": {
      "tags": []
     },
     "output_type": "execute_result"
    }
   ],
   "source": [
    "test_new.loc[:,'Gen_encode']=test_updated['Gen_encode']\n",
    "test_new.drop(columns='Genre',inplace=True)\n",
    "test_new.sample()"
   ]
  },
  {
   "cell_type": "code",
   "execution_count": 0,
   "metadata": {
    "colab": {},
    "colab_type": "code",
    "id": "sZA04CEM2W8e"
   },
   "outputs": [],
   "source": [
    "test_updated=pd.read_csv('/content/drive/My Drive/dataset/ChartbustersParticipantsData/test_updated.csv')\n",
    "train_updated=pd.read_csv('/content/drive/My Drive/dataset/ChartbustersParticipantsData/train_updated.csv')"
   ]
  },
  {
   "cell_type": "code",
   "execution_count": 0,
   "metadata": {
    "colab": {
     "base_uri": "https://localhost:8080/",
     "height": 33
    },
    "colab_type": "code",
    "id": "HOccSmYj7eWI",
    "outputId": "b824b662-5171-45d6-aa32-a205aadce693"
   },
   "outputs": [
    {
     "data": {
      "text/plain": [
       "(235, 14)"
      ]
     },
     "execution_count": 24,
     "metadata": {
      "tags": []
     },
     "output_type": "execute_result"
    }
   ],
   "source": [
    "train_updated[train_updated['Followers']>0.85e7].shape"
   ]
  },
  {
   "cell_type": "markdown",
   "metadata": {},
   "source": [
    "**Scatter plot distribution of the views column**"
   ]
  },
  {
   "cell_type": "code",
   "execution_count": 0,
   "metadata": {
    "colab": {
     "base_uri": "https://localhost:8080/",
     "height": 275
    },
    "colab_type": "code",
    "id": "raHOL-Ae09Gv",
    "outputId": "d5c3dd58-0e84-472f-bbe4-5fc099b46a58"
   },
   "outputs": [
    {
     "data": {
      "image/png": "[encoded data removed]",
      "text/plain": [
       "<Figure size 432x288 with 1 Axes>"
      ]
     },
     "metadata": {
      "tags": []
     },
     "output_type": "display_data"
    }
   ],
   "source": [
    "zz=train_updated[train_updated['Views']<0.5e8]\n",
    "plt.scatter(zz['Gen_encode'],zz['Views'])\n",
    "plt.ylabel('views')\n",
    "plt.show()\n",
    "# zz"
   ]
  },
  {
   "cell_type": "code",
   "execution_count": 0,
   "metadata": {
    "colab": {},
    "colab_type": "code",
    "id": "nUwrmLrd8hYJ"
   },
   "outputs": [],
   "source": [
    "def scatter_plot(x,y,df):\n",
    "  plt.scatter(df['%s'%x],df['%s'%y])\n",
    "  plt.ylabel('%s'%y)\n",
    "  plt.show()"
   ]
  },
  {
   "cell_type": "code",
   "execution_count": 0,
   "metadata": {
    "colab": {},
    "colab_type": "code",
    "id": "3Kn4oAGZ-xgR"
   },
   "outputs": [],
   "source": [
    "def sns_plots(x,y,df):\n",
    "  sns.distplot(df['%s'%x],df['%s'%y])"
   ]
  },
  {
   "cell_type": "code",
   "execution_count": 0,
   "metadata": {
    "colab": {
     "base_uri": "https://localhost:8080/",
     "height": 288
    },
    "colab_type": "code",
    "id": "NLDuqpMP95pm",
    "outputId": "af1b05ac-c24c-4119-9d1d-f84a8dd3a954"
   },
   "outputs": [
    {
     "data": {
      "image/png": "[encoded data removed]",
      "text/plain": [
       "<Figure size 432x288 with 1 Axes>"
      ]
     },
     "metadata": {
      "tags": []
     },
     "output_type": "display_data"
    }
   ],
   "source": [
    "zz=train_updated\n",
    "scatter_plot('Followers','Views',zz)"
   ]
  },
  {
   "cell_type": "code",
   "execution_count": 0,
   "metadata": {
    "colab": {
     "base_uri": "https://localhost:8080/",
     "height": 147
    },
    "colab_type": "code",
    "id": "khsmoW-fHTgp",
    "outputId": "f247f92f-be70-45f1-a070-3254d7a9b2e6"
   },
   "outputs": [
    {
     "name": "stdout",
     "output_type": "stream",
     "text": [
      "(78458, 24)\n",
      "(19615, 24)\n"
     ]
    },
    {
     "data": {
      "text/html": [
       "<div>\n",
       "<style scoped>\n",
       "    .dataframe tbody tr th:only-of-type {\n",
       "        vertical-align: middle;\n",
       "    }\n",
       "\n",
       "    .dataframe tbody tr th {\n",
       "        vertical-align: top;\n",
       "    }\n",
       "\n",
       "    .dataframe thead th {\n",
       "        text-align: right;\n",
       "    }\n",
       "</style>\n",
       "<table border=\"1\" class=\"dataframe\">\n",
       "  <thead>\n",
       "    <tr style=\"text-align: right;\">\n",
       "      <th></th>\n",
       "      <th>Unnamed: 0</th>\n",
       "      <th>Comments</th>\n",
       "      <th>Likes</th>\n",
       "      <th>Popularity</th>\n",
       "      <th>Followers</th>\n",
       "      <th>Gen_encode</th>\n",
       "      <th>day</th>\n",
       "      <th>weekday</th>\n",
       "      <th>month</th>\n",
       "      <th>year</th>\n",
       "      <th>hour</th>\n",
       "      <th>minute</th>\n",
       "      <th>Name_0</th>\n",
       "      <th>Name_1</th>\n",
       "      <th>Name_2</th>\n",
       "      <th>Name_3</th>\n",
       "      <th>Name_4</th>\n",
       "      <th>Name_5</th>\n",
       "      <th>Name_6</th>\n",
       "      <th>Name_7</th>\n",
       "      <th>Name_8</th>\n",
       "      <th>Name_9</th>\n",
       "      <th>Name_10</th>\n",
       "      <th>Name_11</th>\n",
       "    </tr>\n",
       "  </thead>\n",
       "  <tbody>\n",
       "    <tr>\n",
       "      <th>29448</th>\n",
       "      <td>29448</td>\n",
       "      <td>46</td>\n",
       "      <td>1177</td>\n",
       "      <td>203.0</td>\n",
       "      <td>147595</td>\n",
       "      <td>173650.330969</td>\n",
       "      <td>15</td>\n",
       "      <td>4</td>\n",
       "      <td>7</td>\n",
       "      <td>2016</td>\n",
       "      <td>13</td>\n",
       "      <td>33</td>\n",
       "      <td>0</td>\n",
       "      <td>0</td>\n",
       "      <td>0</td>\n",
       "      <td>1</td>\n",
       "      <td>0</td>\n",
       "      <td>1</td>\n",
       "      <td>0</td>\n",
       "      <td>0</td>\n",
       "      <td>1</td>\n",
       "      <td>0</td>\n",
       "      <td>0</td>\n",
       "      <td>1</td>\n",
       "    </tr>\n",
       "  </tbody>\n",
       "</table>\n",
       "</div>"
      ],
      "text/plain": [
       "       Unnamed: 0  Comments  Likes  ...  Name_9  Name_10  Name_11\n",
       "29448       29448        46   1177  ...       0        0        1\n",
       "\n",
       "[1 rows x 24 columns]"
      ]
     },
     "execution_count": 18,
     "metadata": {
      "tags": []
     },
     "output_type": "execute_result"
    }
   ],
   "source": [
    "print(train_new.shape)\n",
    "print(test_new.shape)\n",
    "train_new.sample()\n"
   ]
  },
  {
   "cell_type": "code",
   "execution_count": 0,
   "metadata": {
    "colab": {},
    "colab_type": "code",
    "id": "EwwhEZY7lPIV"
   },
   "outputs": [],
   "source": [
    "train_new=pd.read_csv('/content/drive/My Drive/dataset/ChartbustersParticipantsData/train_new.csv',index_col=False)\n",
    "test_new=pd.read_csv('/content/drive/My Drive/dataset/ChartbustersParticipantsData/test_new.csv',index_col=False)"
   ]
  },
  {
   "cell_type": "code",
   "execution_count": 0,
   "metadata": {
    "colab": {},
    "colab_type": "code",
    "id": "LXiEsO6enQ4q"
   },
   "outputs": [],
   "source": [
    "# train_new.drop(columns='Unnamed: 0',inplace=True)\n",
    "test_new.drop(columns='Unnamed: 0.1',inplace=True)"
   ]
  },
  {
   "cell_type": "code",
   "execution_count": 0,
   "metadata": {
    "colab": {},
    "colab_type": "code",
    "id": "VIIW_OsRoDlw"
   },
   "outputs": [],
   "source": [
    "# from sklearn.preprocessing import StandardScaler\n",
    "# scaler = StandardScaler()\n",
    "# train_new[list(train_new.columns)] = scaler.fit_transform(train_new[list(train_new.columns)])\n",
    "# test_new[list(test_new.columns)] = scaler.fit_transform(test_new[list(test_new.columns)])"
   ]
  },
  {
   "cell_type": "markdown",
   "metadata": {},
   "source": [
    "**After trying out different Scalar Robust Scalar turned out to be the best so I'm using robust scalar.**\n",
    "1. It works well in this dataset as it has data which has outliers, so in this case robust scaler performs best "
   ]
  },
  {
   "cell_type": "code",
   "execution_count": 0,
   "metadata": {
    "colab": {},
    "colab_type": "code",
    "id": "ls0jH4Fo1GMf"
   },
   "outputs": [],
   "source": [
    "from sklearn.preprocessing import RobustScaler\n",
    "scaler = RobustScaler()\n",
    "train_new[list(train_new.columns)] = scaler.fit_transform(train_new[list(train_new.columns)])\n",
    "test_new[list(test_new.columns)] = scaler.fit_transform(test_new[list(test_new.columns)])"
   ]
  },
  {
   "cell_type": "code",
   "execution_count": 0,
   "metadata": {
    "colab": {},
    "colab_type": "code",
    "id": "2GKJl8Z2Io01"
   },
   "outputs": [],
   "source": [
    "# from sklearn.preprocessing import MinMaxScaler\n",
    "# scaler = MinMaxScaler()\n",
    "# train_new[list(train_new.columns)] = scaler.fit_transform(train_new[list(train_new.columns)])\n",
    "# test_new[list(test_new.columns)] = scaler.fit_transform(test_new[list(test_new.columns)])"
   ]
  },
  {
   "cell_type": "code",
   "execution_count": 0,
   "metadata": {
    "colab": {},
    "colab_type": "code",
    "id": "lcFJ0ORA5WWM"
   },
   "outputs": [],
   "source": [
    "train_new = train_updated.copy()\n",
    "test_new = test_updated.copy()"
   ]
  },
  {
   "cell_type": "code",
   "execution_count": 0,
   "metadata": {
    "colab": {
     "base_uri": "https://localhost:8080/",
     "height": 197
    },
    "colab_type": "code",
    "id": "J0nlEqE8IoWG",
    "outputId": "8651917e-fb87-4261-9e60-20c08aff79e7"
   },
   "outputs": [
    {
     "data": {
      "text/html": [
       "<div>\n",
       "<style scoped>\n",
       "    .dataframe tbody tr th:only-of-type {\n",
       "        vertical-align: middle;\n",
       "    }\n",
       "\n",
       "    .dataframe tbody tr th {\n",
       "        vertical-align: top;\n",
       "    }\n",
       "\n",
       "    .dataframe thead th {\n",
       "        text-align: right;\n",
       "    }\n",
       "</style>\n",
       "<table border=\"1\" class=\"dataframe\">\n",
       "  <thead>\n",
       "    <tr style=\"text-align: right;\">\n",
       "      <th></th>\n",
       "      <th>Comments</th>\n",
       "      <th>Likes</th>\n",
       "      <th>Popularity</th>\n",
       "      <th>Followers</th>\n",
       "      <th>Gen_encode</th>\n",
       "      <th>day</th>\n",
       "      <th>weekday</th>\n",
       "      <th>month</th>\n",
       "      <th>year</th>\n",
       "      <th>hour</th>\n",
       "      <th>minute</th>\n",
       "      <th>Name_encode</th>\n",
       "    </tr>\n",
       "  </thead>\n",
       "  <tbody>\n",
       "    <tr>\n",
       "      <th>0</th>\n",
       "      <td>-0.133333</td>\n",
       "      <td>-0.060796</td>\n",
       "      <td>0.046078</td>\n",
       "      <td>0.084800</td>\n",
       "      <td>0.000000</td>\n",
       "      <td>0.933333</td>\n",
       "      <td>0.333333</td>\n",
       "      <td>-0.571429</td>\n",
       "      <td>0.333333</td>\n",
       "      <td>0.090909</td>\n",
       "      <td>0.000000</td>\n",
       "      <td>-0.154684</td>\n",
       "    </tr>\n",
       "    <tr>\n",
       "      <th>1</th>\n",
       "      <td>0.083333</td>\n",
       "      <td>-0.226603</td>\n",
       "      <td>-0.178011</td>\n",
       "      <td>-0.227530</td>\n",
       "      <td>0.000000</td>\n",
       "      <td>0.266667</td>\n",
       "      <td>-1.000000</td>\n",
       "      <td>-0.142857</td>\n",
       "      <td>-0.333333</td>\n",
       "      <td>-0.818182</td>\n",
       "      <td>0.944444</td>\n",
       "      <td>-0.201463</td>\n",
       "    </tr>\n",
       "    <tr>\n",
       "      <th>2</th>\n",
       "      <td>-0.016667</td>\n",
       "      <td>-0.129698</td>\n",
       "      <td>0.029272</td>\n",
       "      <td>-0.174047</td>\n",
       "      <td>0.000000</td>\n",
       "      <td>-0.533333</td>\n",
       "      <td>0.333333</td>\n",
       "      <td>-0.285714</td>\n",
       "      <td>-0.666667</td>\n",
       "      <td>0.272727</td>\n",
       "      <td>0.583333</td>\n",
       "      <td>-0.193179</td>\n",
       "    </tr>\n",
       "    <tr>\n",
       "      <th>3</th>\n",
       "      <td>-0.166667</td>\n",
       "      <td>0.639646</td>\n",
       "      <td>-0.012745</td>\n",
       "      <td>0.813855</td>\n",
       "      <td>1.831112</td>\n",
       "      <td>-0.533333</td>\n",
       "      <td>0.000000</td>\n",
       "      <td>-0.142857</td>\n",
       "      <td>0.000000</td>\n",
       "      <td>0.818182</td>\n",
       "      <td>0.722222</td>\n",
       "      <td>0.403395</td>\n",
       "    </tr>\n",
       "    <tr>\n",
       "      <th>4</th>\n",
       "      <td>1.150000</td>\n",
       "      <td>0.872144</td>\n",
       "      <td>1.732353</td>\n",
       "      <td>0.301494</td>\n",
       "      <td>0.000000</td>\n",
       "      <td>0.066667</td>\n",
       "      <td>0.666667</td>\n",
       "      <td>0.285714</td>\n",
       "      <td>-0.333333</td>\n",
       "      <td>0.545455</td>\n",
       "      <td>0.722222</td>\n",
       "      <td>0.089987</td>\n",
       "    </tr>\n",
       "  </tbody>\n",
       "</table>\n",
       "</div>"
      ],
      "text/plain": [
       "   Comments     Likes  Popularity  ...      hour    minute  Name_encode\n",
       "0 -0.133333 -0.060796    0.046078  ...  0.090909  0.000000    -0.154684\n",
       "1  0.083333 -0.226603   -0.178011  ... -0.818182  0.944444    -0.201463\n",
       "2 -0.016667 -0.129698    0.029272  ...  0.272727  0.583333    -0.193179\n",
       "3 -0.166667  0.639646   -0.012745  ...  0.818182  0.722222     0.403395\n",
       "4  1.150000  0.872144    1.732353  ...  0.545455  0.722222     0.089987\n",
       "\n",
       "[5 rows x 12 columns]"
      ]
     },
     "execution_count": 67,
     "metadata": {
      "tags": []
     },
     "output_type": "execute_result"
    }
   ],
   "source": [
    "# train_new.drop(columns=['train','Views'],inplace=True)\n",
    "# test_new.drop(columns='train',inplace=True)\n",
    "train_new.head()"
   ]
  },
  {
   "cell_type": "markdown",
   "metadata": {},
   "source": [
    "**Model Initialization and training**"
   ]
  },
  {
   "cell_type": "code",
   "execution_count": 0,
   "metadata": {
    "colab": {},
    "colab_type": "code",
    "id": "UQrhwPfkOoCA"
   },
   "outputs": [],
   "source": [
    "# custom function to run light gbm model\n",
    "import lightgbm as lgb\n",
    "params = {'boosting_type': 'gbdt',\n",
    "          'max_depth' : -1,\n",
    "          'objective': 'regression',\n",
    "          'nthread': 3, # Updated from nthread\n",
    "          'num_leaves': 64,\n",
    "          'learning_rate': 0.05,\n",
    "          'max_bin': 512,\n",
    "          'subsample_for_bin': 200,\n",
    "          'subsample': 1,\n",
    "          'subsample_freq': 1,\n",
    "          'colsample_bytree': 0.8,\n",
    "          'reg_alpha': 5,\n",
    "          'reg_lambda': 10,\n",
    "          'min_split_gain': 0.5,\n",
    "          'min_child_weight': 1,\n",
    "          'min_child_samples': 5,\n",
    "          'scale_pos_weight': 1,\n",
    "          'num_class' : 1,\n",
    "          'metric' : 'rmse'}"
   ]
  },
  {
   "cell_type": "code",
   "execution_count": 0,
   "metadata": {
    "colab": {},
    "colab_type": "code",
    "id": "11COHkyfczBA"
   },
   "outputs": [],
   "source": [
    "# gridParams = {\n",
    "#     'learning_rate': [0.005],\n",
    "#     'n_estimators': [40],\n",
    "#     'num_leaves': [6,8,12,16],\n",
    "#     'boosting_type' : ['gbdt'],\n",
    "#     'objective' : ['regression'],\n",
    "#     'random_state' : [501], # Updated from 'seed'\n",
    "#     'colsample_bytree' : [0.65, 0.66],\n",
    "#     'subsample' : [0.7,0.75],\n",
    "#     'reg_alpha' : [1,1.2],\n",
    "#     'reg_lambda' : [1,1.2,1.4],\n",
    "#     }\n",
    "\n",
    "# mdl = lgb.LGBMClassifier(boosting_type= 'gbdt',\n",
    "#           objective = 'regression',\n",
    "#           n_jobs = 3, # Updated from 'nthread'\n",
    "#           silent = True,\n",
    "#           max_depth = params['max_depth'],\n",
    "#           max_bin = params['max_bin'],\n",
    "#           subsample_for_bin = params['subsample_for_bin'],\n",
    "#           subsample = params['subsample'],\n",
    "#           subsample_freq = params['subsample_freq'],\n",
    "#           min_split_gain = params['min_split_gain'],\n",
    "#           min_child_weight = params['min_child_weight'],\n",
    "#           min_child_samples = params['min_child_samples'],\n",
    "#           scale_pos_weight = params['scale_pos_weight'])\n"
   ]
  },
  {
   "cell_type": "code",
   "execution_count": 0,
   "metadata": {
    "colab": {},
    "colab_type": "code",
    "id": "2TwLmFiNdTAd"
   },
   "outputs": [],
   "source": [
    "# from sklearn.model_selection import GridSearchCV\n",
    "\n",
    "# grid = GridSearchCV(mdl, gridParams,\n",
    "#                     verbose=0,\n",
    "#                     cv=4,\n",
    "#                     n_jobs=2)\n",
    "# # Run the grid\n",
    "# grid.fit(train_new, y_train)"
   ]
  },
  {
   "cell_type": "code",
   "execution_count": 0,
   "metadata": {
    "colab": {},
    "colab_type": "code",
    "id": "5Sw6cPjvbM-D"
   },
   "outputs": [],
   "source": [
    "# LGBM_train = lgb.Dataset(train_X, label=train_Y)\n"
   ]
  },
  {
   "cell_type": "code",
   "execution_count": 0,
   "metadata": {
    "colab": {},
    "colab_type": "code",
    "id": "jepODJMc1hHN"
   },
   "outputs": [],
   "source": [
    "y_train=train['Views']"
   ]
  },
  {
   "cell_type": "markdown",
   "metadata": {},
   "source": [
    "**Dataset split into train and validation set**"
   ]
  },
  {
   "cell_type": "code",
   "execution_count": 0,
   "metadata": {
    "colab": {},
    "colab_type": "code",
    "id": "pu4uE45g0ESp"
   },
   "outputs": [],
   "source": [
    "train_X = train_new.iloc[0:60000].copy()\n",
    "train_Y = y_train.iloc[0:60000].copy()\n",
    "\n",
    "val_X= train_new.loc[60000:].copy()\n",
    "val_Y = y_train.loc[60000:].copy()"
   ]
  },
  {
   "cell_type": "markdown",
   "metadata": {},
   "source": [
    "**Finding the best number of iteration to run**"
   ]
  },
  {
   "cell_type": "code",
   "execution_count": 0,
   "metadata": {
    "colab": {
     "base_uri": "https://localhost:8080/",
     "height": 233
    },
    "colab_type": "code",
    "id": "bfhZRm_661UJ",
    "outputId": "56c512c1-92af-4333-ed0b-7c353e4cfbe4"
   },
   "outputs": [
    {
     "name": "stdout",
     "output_type": "stream",
     "text": [
      "Training until validation scores don't improve for 500 rounds.\n",
      "[300]\tvalid_0's rmse: 399587\n",
      "[600]\tvalid_0's rmse: 244499\n",
      "[900]\tvalid_0's rmse: 178590\n",
      "[1200]\tvalid_0's rmse: 142692\n",
      "[1500]\tvalid_0's rmse: 117939\n",
      "[1800]\tvalid_0's rmse: 101543\n",
      "[2100]\tvalid_0's rmse: 90152.1\n",
      "[2400]\tvalid_0's rmse: 81320.2\n",
      "[2700]\tvalid_0's rmse: 74723.2\n",
      "[3000]\tvalid_0's rmse: 69104.7\n",
      "Did not meet early stopping. Best iteration is:\n",
      "[3000]\tvalid_0's rmse: 69104.7\n"
     ]
    }
   ],
   "source": [
    "LGBM_train = lgb.Dataset(train_new, label=y_train,free_raw_data=False)\n",
    "LGBM_model = lgb.train(params, LGBM_train, 3000, valid_sets=[LGBM_valid], early_stopping_rounds=500, verbose_eval=300)"
   ]
  },
  {
   "cell_type": "markdown",
   "metadata": {},
   "source": [
    "**Predicting on the test set**"
   ]
  },
  {
   "cell_type": "code",
   "execution_count": 0,
   "metadata": {
    "colab": {},
    "colab_type": "code",
    "id": "3FaNYilSawF2"
   },
   "outputs": [],
   "source": [
    "predicted_test = LGBM_model.predict(test_new, num_iteration=LGBM_model.best_iteration)"
   ]
  },
  {
   "cell_type": "markdown",
   "metadata": {
    "colab_type": "text",
    "id": "3Su4xdodBBTm"
   },
   "source": [
    "XGB Modeling\n"
   ]
  },
  {
   "cell_type": "markdown",
   "metadata": {
    "colab_type": "text",
    "id": "VSPRJdsjX36H"
   },
   "source": [
    "#### model1"
   ]
  },
  {
   "cell_type": "code",
   "execution_count": 0,
   "metadata": {
    "colab": {},
    "colab_type": "code",
    "id": "igq0XSgzZlpR"
   },
   "outputs": [],
   "source": [
    "params=\n",
    "{\n",
    "learning_rate =0.01,\n",
    "n_estimators=5000,\n",
    "max_depth=4,\n",
    "min_child_weight=6,\n",
    "gamma=0,\n",
    "subsample=0.8,\n",
    "colsample_bytree=0.8,\n",
    "reg_alpha=0.005,\n",
    "nthread=4,\n",
    "scale_pos_weight=1\n",
    "}"
   ]
  },
  {
   "cell_type": "code",
   "execution_count": 0,
   "metadata": {
    "colab": {
     "base_uri": "https://localhost:8080/",
     "height": 33
    },
    "colab_type": "code",
    "id": "Kndd3AvzLi5P",
    "outputId": "aec6d746-858b-4aa6-d237-3c6996fe4349"
   },
   "outputs": [
    {
     "name": "stdout",
     "output_type": "stream",
     "text": [
      "[15:47:14] WARNING: /workspace/src/objective/regression_obj.cu:152: reg:linear is now deprecated in favor of reg:squarederror.\n"
     ]
    }
   ],
   "source": [
    "  #  13.9Lakh\n",
    "xgb1 = xgb.XGBRegressor(\n",
    " learning_rate =0.01,\n",
    " n_estimators=5000,\n",
    " max_depth=4,\n",
    " min_child_weight=6,\n",
    " gamma=0,\n",
    " subsample=0.8,\n",
    " colsample_bytree=0.8,\n",
    " reg_alpha=0.005,\n",
    " nthread=4,\n",
    " scale_pos_weight=1,\n",
    " eval_metric='rmse',\n",
    " seed=27)\n",
    "\n",
    "# tr_data = xgb.DMatrix(train_new,y_train)\n",
    "# watchlist = [(va_data, 'valid')]\n",
    "\n",
    "model_xgb = xgb1.fit(train_new,y_train)\n"
   ]
  },
  {
   "cell_type": "code",
   "execution_count": 0,
   "metadata": {
    "colab": {},
    "colab_type": "code",
    "id": "Zanfc39YSChf"
   },
   "outputs": [],
   "source": [
    "# xgb1.get_params()"
   ]
  },
  {
   "cell_type": "code",
   "execution_count": 0,
   "metadata": {
    "colab": {},
    "colab_type": "code",
    "id": "px9W3xYgNMBW"
   },
   "outputs": [],
   "source": [
    "# test_new.columns=train_new.columns\n",
    "# test_new.sample()"
   ]
  },
  {
   "cell_type": "code",
   "execution_count": 0,
   "metadata": {
    "colab": {},
    "colab_type": "code",
    "id": "SabvFXyINEED"
   },
   "outputs": [],
   "source": [
    "\n",
    "# dtest = xgb.DMatrix(test_new)\n",
    "xgb_pred_y = model_xgb.predict(test_new)\n",
    "predicted_test=xgb_pred_y"
   ]
  },
  {
   "cell_type": "markdown",
   "metadata": {},
   "source": [
    "**Creating the submission file**"
   ]
  },
  {
   "cell_type": "code",
   "execution_count": 0,
   "metadata": {
    "colab": {},
    "colab_type": "code",
    "id": "q6vdQn1d-r3s"
   },
   "outputs": [],
   "source": [
    "# rms = sqrt(mean_squared_error(y_actual, y_predicted))\n",
    "sub= pd.read_excel('/content/drive/My Drive/dataset/ChartbustersParticipantsData/Sample_Submission.xlsx')\n"
   ]
  },
  {
   "cell_type": "code",
   "execution_count": 0,
   "metadata": {
    "colab": {},
    "colab_type": "code",
    "id": "Eya95c84hvHG"
   },
   "outputs": [],
   "source": [
    "submission=pd.concat([sub['Unique_ID'],pd.Series(predicted_test)],axis=1)"
   ]
  },
  {
   "cell_type": "code",
   "execution_count": 0,
   "metadata": {
    "colab": {},
    "colab_type": "code",
    "id": "lrU5-88nO55x"
   },
   "outputs": [],
   "source": [
    "submission.columns=['Unique_ID','Views']"
   ]
  },
  {
   "cell_type": "code",
   "execution_count": 0,
   "metadata": {
    "colab": {},
    "colab_type": "code",
    "id": "FSAlKoVgiRyX"
   },
   "outputs": [],
   "source": [
    "submission['Views']=submission['Views'].round()\n",
    "# submission.to_excel('/content/drive/My Drive/dataset/ChartbustersParticipantsData/sub11.xlsx',index=False)\n",
    "# submission.head()"
   ]
  },
  {
   "cell_type": "code",
   "execution_count": 0,
   "metadata": {
    "colab": {},
    "colab_type": "code",
    "id": "23KXbP2CO53X"
   },
   "outputs": [],
   "source": [
    "submission.to_excel('E:\\sub1234.xlsx',index=False)"
   ]
  }
 ],
 "metadata": {
  "colab": {
   "collapsed_sections": [],
   "name": "ChartbustersParticipantsData",
   "provenance": []
  },
  "kernelspec": {
   "display_name": "Python 3",
   "language": "python",
   "name": "python3"
  },
  "language_info": {
   "codemirror_mode": {
    "name": "ipython",
    "version": 3
   },
   "file_extension": ".py",
   "mimetype": "text/x-python",
   "name": "python",
   "nbconvert_exporter": "python",
   "pygments_lexer": "ipython3",
   "version": "3.7.3"
  }
 },
 "nbformat": 4,
 "nbformat_minor": 1
}
